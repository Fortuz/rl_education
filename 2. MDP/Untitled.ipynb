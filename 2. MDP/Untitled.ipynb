{
 "cells": [
  {
   "cell_type": "code",
   "execution_count": 5,
   "id": "b2ab1ccb-37e5-40bb-b587-3ab48b31e0c8",
   "metadata": {
    "tags": []
   },
   "outputs": [],
   "source": [
    "import gymnasium as gym\n",
    "import numpy as np\n",
    "import pickle\n",
    "from tqdm.notebook import trange\n",
    "import matplotlib.pyplot as plt\n",
    "from IPython import display\n",
    "import time\n",
    "\n",
    "env = gym.make('Taxi-v3', render_mode='rgb_array')\n",
    "\n",
    "# initializing q-table\n",
    "action_space_size = env.action_space.n\n",
    "state_space_size = env.observation_space.n\n",
    "\n",
    "q_table = np.zeros((state_space_size, action_space_size))\n",
    "\n",
    "# hyperparameters\n",
    "MAX_STEPS_PER_EPISODE = 200\n",
    "\n",
    "ALPHA = 0.4  # learning rate\n",
    "GAMMA = 1  # discount rate\n",
    "\n",
    "EPSILON = 1  # exploration rate\n",
    "EPSILON_MAX = 1\n",
    "EPSILON_MIN = 0.1\n",
    "EPSILON_DECAY = (2 * EPSILON) / N_EPISODES\n",
    "\n",
    "LOG_RATE = N_EPISODES / 10"
   ]
  },
  {
   "cell_type": "code",
   "execution_count": 9,
   "id": "1d19316a-a987-4a65-9861-7239df78a158",
   "metadata": {
    "tags": []
   },
   "outputs": [],
   "source": [
    "def train(N_STEPS):\n",
    "\n",
    "    action_space_size = env.action_space.n\n",
    "    state_space_size = env.observation_space.n\n",
    "\n",
    "\n",
    "    N_EPISODES = 1000\n",
    "\n",
    "    ALPHA = 0.4  # learning rate\n",
    "    GAMMA = 1  # discount rate\n",
    "\n",
    "    EPSILON = 1  # exploration rate\n",
    "    EPSILON_MAX = 1\n",
    "    EPSILON_MIN = 0.1\n",
    "    EPSILON_DECAY = (2 * EPSILON) / N_EPISODES\n",
    "    ALPHAS = np.linspace(0, 1, 11)\n",
    "\n",
    "    q_tables = {}\n",
    "\n",
    "    def select_action(state):\n",
    "        if np.random.rand() > EPSILON:\n",
    "            return np.argmax(q_table[state, :])\n",
    "        else:\n",
    "            return env.action_space.sample()\n",
    "\n",
    "    def state_value(state):\n",
    "        return np.max(q_table[state, :])\n",
    "\n",
    "    for ALPHA in ALPHAS:\n",
    "        q_table = np.zeros((state_space_size, action_space_size))\n",
    "\n",
    "        for episode in range(N_EPISODES):\n",
    "            state, _ = env.reset()\n",
    "            truncated = False\n",
    "\n",
    "            action = select_action(state)\n",
    "            states = [state]\n",
    "            actions = [action]\n",
    "            rewards = [0]\n",
    "\n",
    "            tau = -N_STEPS + 1\n",
    "            time_step = 0\n",
    "            terminal_step = np.inf\n",
    "\n",
    "            while tau < terminal_step:\n",
    "                if time_step < terminal_step:\n",
    "                    new_state, reward, done, _, info = env.step(action)\n",
    "\n",
    "                    states.append(new_state)\n",
    "                    rewards.append(reward)\n",
    "\n",
    "                    truncated = (not done) and (time_step >= MAX_STEPS_PER_EPISODE)\n",
    "\n",
    "                    if done or truncated:\n",
    "                        terminal_step = time_step + 1\n",
    "                    else:\n",
    "                        action = select_action(new_state)\n",
    "                        actions.append(action)\n",
    "                        state = new_state\n",
    "\n",
    "                if tau >= 0:\n",
    "                    target = 0\n",
    "\n",
    "                    if time_step + 1 >= terminal_step:\n",
    "                        if truncated:\n",
    "                            target = rewards[terminal_step] + \\\n",
    "                                GAMMA * state_value(terminal_step)\n",
    "                        else:\n",
    "                            target = rewards[terminal_step]\n",
    "                    else:\n",
    "                        target = rewards[time_step + 1] + \\\n",
    "                            GAMMA * state_value(states[time_step + 1])\n",
    "\n",
    "                    for k in range(min(terminal_step - 1, time_step), tau, -1):\n",
    "                        if actions[k] == np.argmax(q_table[states[k], :]):\n",
    "                            target = rewards[k] + GAMMA * target\n",
    "                        else:\n",
    "                            target = rewards[k] + GAMMA * state_value(states[k])\n",
    "\n",
    "                    q_table[states[tau], actions[tau]] += ALPHA * \\\n",
    "                        (target - q_table[states[tau], actions[tau]])\n",
    "\n",
    "                time_step += 1\n",
    "                tau += 1\n",
    "\n",
    "            # updating epsilon\n",
    "            EPSILON = max(EPSILON - EPSILON_DECAY, EPSILON_MIN)\n",
    "        \n",
    "        q_tables[ALPHA] = q_table\n",
    "    \n",
    "    return q_tables"
   ]
  },
  {
   "cell_type": "code",
   "execution_count": 10,
   "id": "6f66f3b6-b960-4811-b915-6e8ea6f9853d",
   "metadata": {
    "tags": []
   },
   "outputs": [],
   "source": [
    "def test(q_tables):\n",
    "    ALPHAS = np.linspace(0, 1, 11)\n",
    "    results = []\n",
    "    N_EP = 10_000\n",
    "    MAX_STEPS_PER_EPISODE = 200\n",
    "\n",
    "    for ALPHA in ALPHAS:\n",
    "        q_table = q_tables[ALPHA]\n",
    "        sum_reward = 0\n",
    "        for episode in range(N_EP):\n",
    "            state, _ = env.reset()\n",
    "            done = False\n",
    "\n",
    "            for step in range(MAX_STEPS_PER_EPISODE):\n",
    "                action = np.argmax(q_table[state, :])  # greedy action selection\n",
    "\n",
    "                new_state, reward, done, truncated, info = env.step(action)\n",
    "                sum_reward += reward\n",
    "\n",
    "                state = new_state\n",
    "\n",
    "                if done:\n",
    "                    break\n",
    "        results.append(sum_reward / N_EP)\n",
    "    \n",
    "    return results"
   ]
  },
  {
   "cell_type": "code",
   "execution_count": 11,
   "id": "2850ed8b-f113-4a90-8f3a-7039f990e2d5",
   "metadata": {
    "tags": []
   },
   "outputs": [
    {
     "name": "stdout",
     "output_type": "stream",
     "text": [
      "1\n",
      "[0.  0.1 0.2 0.3 0.4 0.5 0.6 0.7 0.8 0.9 1. ]\n",
      "[-200.0, -105.6548, -13.3974, -24.7251, 1.7122, -4.7147, -13.7942, 4.8015, -1.8486, 2.578, 1.7569]\n",
      "2\n",
      "[0.  0.1 0.2 0.3 0.4 0.5 0.6 0.7 0.8 0.9 1. ]\n",
      "[-200.0, -28.8491, 3.5518, 6.783, 5.6197, 6.9653, 3.7565, 2.8481, 6.376, 4.5262, 5.3812]\n",
      "4\n",
      "[0.  0.1 0.2 0.3 0.4 0.5 0.6 0.7 0.8 0.9 1. ]\n",
      "[-200.0, 2.8816, 3.8253, 5.1458, 3.7245, -2.73, 3.4569, -16.9237, -7.1809, 3.3369, -95.7123]\n"
     ]
    },
    {
     "data": {
      "image/png": "[encoded data removed]",
      "text/plain": [
       "<Figure size 640x480 with 1 Axes>"
      ]
     },
     "metadata": {},
     "output_type": "display_data"
    }
   ],
   "source": [
    "ALPHAS = np.linspace(0, 1, 11)\n",
    "\n",
    "for n in [1,2,4]:\n",
    "    q_tables = train(n)\n",
    "    results = test(q_tables)\n",
    "    plt.plot(ALPHAS, results)\n",
    "    print(n)\n",
    "    print(ALPHAS)\n",
    "    print(results)\n",
    "\n",
    "plt.show()"
   ]
  },
  {
   "cell_type": "code",
   "execution_count": null,
   "id": "ad71cf28-bc89-47e4-af66-23af4d309e57",
   "metadata": {},
   "outputs": [],
   "source": []
  },
  {
   "cell_type": "code",
   "execution_count": null,
   "id": "24bbf3af-c69e-4cfc-9174-8288e7ccce7b",
   "metadata": {},
   "outputs": [],
   "source": []
  }
 ],
 "metadata": {
  "kernelspec": {
   "display_name": "Python 3 (ipykernel)",
   "language": "python",
   "name": "python3"
  },
  "language_info": {
   "codemirror_mode": {
    "name": "ipython",
    "version": 3
   },
   "file_extension": ".py",
   "mimetype": "text/x-python",
   "name": "python",
   "nbconvert_exporter": "python",
   "pygments_lexer": "ipython3",
   "version": "3.11.5"
  }
 },
 "nbformat": 4,
 "nbformat_minor": 5
}
