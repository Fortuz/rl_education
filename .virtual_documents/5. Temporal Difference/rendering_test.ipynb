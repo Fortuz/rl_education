import gymnasium as gym
import gnwrapper
from IPython import display
import PIL.Image
import time

env = gnwrapper.Monitor(gym.make("LunarLander-v2", render_mode='rgb_array'))
env.reset()
for _ in range(1000):
    action = env.action_space.sample()
    env.step(action)
    # display.display(PIL.Image.fromarray(env.render()))
    # display.clear_output(wait=True)
    # time.sleep(0.015)

env.display(reset=True)






