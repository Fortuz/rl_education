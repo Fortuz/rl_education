{
 "cells": [
  {
   "cell_type": "markdown",
   "id": "71323ea5-f77e-42cd-8b5e-c1ff89e2c6b2",
   "metadata": {},
   "source": [
    "![Logo](../assets/logo.png)\n",
    "\n",
    "Made by **Domonkos Nagy**\n",
    "\n",
    "[<img src=\"https://colab.research.google.com/assets/colab-badge.svg\">](https://colab.research.google.com/github/Fortuz/rl_education/blob/main/1.%20K-armed%20Bandit/k_armed_bandit.ipynb)\n",
    "\n",
    "# $k$-armed Bandit\n",
    "\n",
    "Consider the following learning problem. You are faced repeatedly with a choice among\n",
    "$k$ different options, or actions. After each choice, you receive a numerical reward\n",
    "from a stationary probability distribution that depends on the action you selected. Your\n",
    "objective is to maximize the expected total reward over some time period, for example,\n",
    "over 1000 action selections, or time steps.\n",
    "\n",
    "This is called the $k$-armed bandit problem. You can visualize this problem as having to\n",
    "choose between $k$ slot machines (also known as one-armed bandits) at each time step,\n",
    "each of which has a different probability distribution for rewards - that is where the name comes from.\n",
    "\n",
    "<img src=\"assets/k_armed_bandit.png\" width=\"500\"/>\n",
    "\n",
    "The $k$-armed bandit problem illustrates an important problem in reinforcement\n",
    "learning: **exploration vs. exploitation**. At each time step $t$, the agent has to make a decision:\n",
    "take the action with the highest expected reward according to its current knowledge of the environment, \n",
    "or choose a different action to get a better estimation of the value of that action. The former is called an\n",
    "*exploitation* step, because it exploits the current knowledge of the agent in order to obtain a high reward.\n",
    "The latter is called an *exploration* step, since it involves trying out an action in order to have a better\n",
    "estimation of its value, thereby exploring the environment.\n",
    "\n",
    "This notebook introduces a few common strategies to tackle this problem and puts them to the test by simulating\n",
    "multiple test runs, and comparing the results.\n",
    "\n",
    "- This notebook is based on Chapter 2 of the book *Reinforcement Learning: An Introduction (2nd ed.)* by R. Sutton & A. Barto, available at http://incompleteideas.net/book/the-book-2nd.html"
   ]
  },
  {
   "cell_type": "code",
   "execution_count": 1,
   "id": "d06156ef-5366-4790-af7c-a5b9d31278c6",
   "metadata": {
    "tags": []
   },
   "outputs": [],
   "source": [
    "import numpy as np\n",
    "from abc import ABC, abstractmethod\n",
    "import matplotlib.pyplot as plt\n",
    "from tqdm.notebook import trange\n",
    "import time"
   ]
  },
  {
   "cell_type": "markdown",
   "id": "184eca01-435a-4c1e-a58d-4374e4b75123",
   "metadata": {},
   "source": [
    "The `Strategy` base class is used to implement startegies for action selection. An action is selected by the `act` method, and then the `update` method is used\n",
    "to update the inner state after receiving a reward for the selected action. After an episode (a \"run\" consisting of $n$ steps, 1000 for example) is over, the `reset` method is called to reset the inner state of the class. The `name` propery is used get a name for the strategy in a visual representation."
   ]
  },
  {
   "cell_type": "code",
   "execution_count": 2,
   "id": "b3f1ff81-334f-4c0b-bf3d-eade83e9c488",
   "metadata": {},
   "outputs": [],
   "source": [
    "class Strategy(ABC):\n",
    "\n",
    "    def __init__(self, k):\n",
    "        self.k = k  # Number of actions\n",
    "\n",
    "    @property\n",
    "    @abstractmethod\n",
    "    def name():\n",
    "        pass\n",
    "\n",
    "    @abstractmethod\n",
    "    def act(self):\n",
    "        pass\n",
    "\n",
    "    @abstractmethod\n",
    "    def update(self, action, reward):\n",
    "        pass\n",
    "\n",
    "    @abstractmethod\n",
    "    def reset(self):\n",
    "        pass"
   ]
  },
  {
   "cell_type": "markdown",
   "id": "b0528443-6a12-4109-b9cd-a42fc724919e",
   "metadata": {},
   "source": [
    "Numpy's `np.argmax` will choose the smallest index in case there are multiple\n",
    "maximal values. This function breaks these ties randomly instead, which is\n",
    "desirable in many cases."
   ]
  },
  {
   "cell_type": "code",
   "execution_count": 3,
   "id": "5b48f7a0-8634-4980-8503-1d1567b5033f",
   "metadata": {},
   "outputs": [],
   "source": [
    "# Argmax function that breaks ties randomly\n",
    "def argmax(arr):\n",
    "    arr_max = np.max(arr)\n",
    "    return np.random.choice(np.where(arr == arr_max)[0])"
   ]
  },
  {
   "cell_type": "markdown",
   "id": "79096804-a20e-499d-abdc-4a187ab3ac01",
   "metadata": {},
   "source": [
    "## $\\varepsilon$-greedy Action Selection\n",
    "\n",
    "With this method, the agent will select a random action with an $\\varepsilon$ probability ($0 \\le \\varepsilon \\le 1$), and act greedily (select the best action according to its knowledge) otherwise. The action values are calculated using the *sample-averages* method: the value of an action is the average of all the rewards received after taking that action.\n",
    "\n",
    "***\n",
    "\n",
    "### **Your Task**\n",
    "\n",
    "Implement the $\\varepsilon$-greedy action selection method! You should complete all methods of the class below, and\n",
    "you can add new class methods and constructor arguments as needed.\n",
    "\n",
    "#### **Hints:**\n",
    "\n",
    "- Use the argmax function defined above!\n",
    "- There is a simple way to incremetally calculate the average reward for a given action: $Q_{n+1} = Q_n + \\frac{1}{n}\\left[R_n-Q_n\\right]$ (See page 31 of the Sutton & Barto book for details)\n",
    "- To test your implementation, instantiate this class in the `strategies` list at the bottom of the notebook and run the simulation.\n",
    "- Try experimenting with different values of $\\varepsilon$!\n",
    "\n",
    "***"
   ]
  },
  {
   "cell_type": "code",
   "execution_count": 4,
   "id": "b1c4f8ee-f3f8-4b5a-a7f2-e77adbb96481",
   "metadata": {
    "tags": []
   },
   "outputs": [],
   "source": [
    "class EpsilonGreedy(Strategy):\n",
    "\n",
    "    def __init__(self, k):\n",
    "        super().__init__(k)\n",
    "\n",
    "    @property\n",
    "    def name(self):\n",
    "        raise NotImplementedError\n",
    "\n",
    "    def act(self):\n",
    "        raise NotImplementedError\n",
    "\n",
    "    def update(self, action, reward):\n",
    "        raise NotImplementedError\n",
    "\n",
    "    def reset(self):\n",
    "        raise NotImplementedError"
   ]
  },
  {
   "cell_type": "markdown",
   "id": "496a7400-b006-4b32-a3b4-dff353377a61",
   "metadata": {},
   "source": [
    "## Upper-Confidence-Bound (UCB) Action Selection\n",
    "\n",
    "The UCB action selection method offers a way to select an action by taking both the estimated value, as well as the accuracy of those estimates into account.\n",
    "It uses the following formula:\n",
    "\n",
    "$$ A_t := \\underset{a}{\\arg\\max} \\left[ Q_t(a) + c \\frac{\\ln(t)}{N_t(a)} \\right] $$\n",
    "\n",
    "Where $Q_t(a)$ denotes the value of action $a$ (calculated using the *sample-averages* method), $N_t(a)$ denotes the number of times that action $a$ has\n",
    "been selected prior to time $t$, and the number $c > 0$ controls\n",
    "the degree of exploration. If $N_t(a) = 0$, then $a$ is considered to be a maximizing action.\n",
    "\n",
    "***\n",
    "\n",
    "### **Your Task**\n",
    "\n",
    "Implement the UCB action selection method! You should complete all methods of the class below, and\n",
    "you can add new class methods and constructor arguments as needed.\n",
    "\n",
    "#### **Hints:**\n",
    "\n",
    "- You can utilize the same incremental average calulation as with the $\\varepsilon$-greedy method.\n",
    "- Compare UCB to $\\varepsilon$-greedy by adding an instance of this class to the `strategies` list below.\n",
    "- Try experimenting with different values of $c$!\n",
    "\n",
    "***"
   ]
  },
  {
   "cell_type": "code",
   "execution_count": 5,
   "id": "cc53801d-a923-4bdf-8e4d-967481e0fbfb",
   "metadata": {},
   "outputs": [],
   "source": [
    "class UCB(Strategy):\n",
    "\n",
    "    def __init__(self, k):\n",
    "        super().__init__(k)\n",
    "\n",
    "    @property\n",
    "    def name(self):\n",
    "        raise NotImplementedError\n",
    "\n",
    "    def act(self):\n",
    "        raise NotImplementedError\n",
    "\n",
    "    def update(self, action, reward):\n",
    "        raise NotImplementedError\n",
    "\n",
    "    def reset(self):\n",
    "        raise NotImplementedError"
   ]
  },
  {
   "cell_type": "markdown",
   "id": "651c4cb1-b701-4a1e-840f-10ab0f3ccee1",
   "metadata": {},
   "source": [
    "## Gradient Bandit Algorithms\n",
    "\n",
    "Instead of estimating action values, this method learns a numerical *preference*, denoted $H_t(a)$ for each action. The larger the preference, the more often that action is taken, but the preference has no interpretation in terms of reward. Action probabilites are determined using the *soft-max* function:\n",
    "\n",
    "$$ \\pi_t(a) := \\Pr\\{A_t = a\\} := \\frac{e^{H_t(a)}}{\\sum_{b=1}^k e^{H_t(b)}} $$\n",
    "\n",
    "Here we have also introduced a useful new notation, $\\pi_t(a)$, for the probability of\n",
    "taking action $a$ at time $t$. Note that this function defines a probability distribution over the set of all actions. On each step, after selecting action $A_t$ and receiving the reward $R_t$, the\n",
    "action preferences are updated by:\n",
    "\n",
    "$$ H_{t+1}(a) := H_t(a) + \\alpha(R_t - \\bar{R}_t)(\\mathbb{1}_{a=A_t} - \\pi_t(a)) $$\n",
    "\n",
    "Where $\\alpha > 0$ is a step-size parameter, and $\\bar{R}_t \\in \\mathbb{R}$ is the average of all the rewards up\n",
    "through and including time $t$. \n",
    "The $\\bar{R}_t$ term serves as a\n",
    "baseline with which the reward is compared.\n",
    "\n",
    "***\n",
    "\n",
    "### **Your Task**\n",
    "\n",
    "Implement the Gradient action selection method! You should complete all methods of the class below, and\n",
    "you can add new class methods and constructor arguments as needed.\n",
    "\n",
    "#### **Hints:**\n",
    "\n",
    "- You can incrementally calculate the baseline value similarly to the action-value averages for the methods above.\n",
    "- The action preferences can be updated with a single line using an array which contains 1 at index $A_t$ and 0 elsewhere.\n",
    "- Instantiate this class in the list below as well and see how the three methods compare!\n",
    "- Try experimenting with different values of $\\alpha$!\n",
    "\n",
    "***"
   ]
  },
  {
   "cell_type": "code",
   "execution_count": 6,
   "id": "8b23b411-4615-4226-b1f1-76a9dbadf924",
   "metadata": {},
   "outputs": [],
   "source": [
    "class Gradient(Strategy):\n",
    "\n",
    "    def __init__(self, k):\n",
    "        super().__init__(k)\n",
    "\n",
    "    @property\n",
    "    def name(self):\n",
    "        raise NotImplementedError\n",
    "\n",
    "    def act(self):\n",
    "        raise NotImplementedError\n",
    "\n",
    "    def update(self, action, reward):\n",
    "        raise NotImplementedError\n",
    "\n",
    "    def reset(self):\n",
    "        raise NotImplementedError"
   ]
  },
  {
   "cell_type": "markdown",
   "id": "9dc690bb-c38b-470f-97f3-ee77badc6c0f",
   "metadata": {},
   "source": [
    "## Simulating the Problem\n",
    "\n",
    "We test our strategies by trying them out in multiple runs, and then averaging out the received reward at each time step. After that, we plot the results to\n",
    "compare the strategies."
   ]
  },
  {
   "cell_type": "code",
   "execution_count": 7,
   "id": "ec06548f-ebed-4a89-b843-02fd16119c76",
   "metadata": {},
   "outputs": [],
   "source": [
    "K = 10  # Number of actions\n",
    "\n",
    "# Action with some probability distribution\n",
    "class Action:\n",
    "    def __init__(self, distribution_prob=[1, 0, 0]):\n",
    "        self.mean = np.random.randn()\n",
    "        # By default, the distribution is Normal\n",
    "        self.distribution = np.random.choice([\"normal\", \"constant\", \"uniform\"], p=distribution_prob)\n",
    "\n",
    "    def get_reward(self):\n",
    "        if self.distribution == \"normal\":\n",
    "            return np.random.randn() + self.mean\n",
    "        elif self.distribution == \"uniform\":\n",
    "            return np.random.rand() + self.mean\n",
    "        else:\n",
    "            return self.mean\n",
    "\n",
    "\n",
    "# Simulating the k-armed bandit problem\n",
    "def simulate(strategies, runs=2000, n_steps=1000):\n",
    "    rewards = np.zeros((len(strategies), runs, n_steps))\n",
    "    best_action_choices = np.zeros(rewards.shape)\n",
    "\n",
    "    for i, strategy in enumerate(strategies):\n",
    "        print(f\"Evaluating strategy {i + 1}/{len(strategies)}...\")\n",
    "\n",
    "        for r in trange(runs):\n",
    "            # Setting up actions with random probabilty distributions\n",
    "            actions = [Action() for _ in range(K)]\n",
    "            best_action = np.argmax([action.mean for action in actions])\n",
    "\n",
    "            strategy.reset()\n",
    "\n",
    "            for t in range(n_steps):\n",
    "                action = strategy.act()\n",
    "\n",
    "                reward = actions[action].get_reward()\n",
    "                rewards[i, r, t] = reward\n",
    "                strategy.update(action, reward)\n",
    "\n",
    "                if action == best_action:\n",
    "                    best_action_choices[i, r, t] = 1\n",
    "                    \n",
    "            time.sleep(.00001)  # For tqdm\n",
    "            \n",
    "    # Average of rewards received over all runs\n",
    "    mean_rewards = rewards.mean(axis=1)\n",
    "    # Average of number of best action choices over all runs\n",
    "    mean_best_action_choices = best_action_choices.mean(axis=1)\n",
    "\n",
    "    return mean_rewards, mean_best_action_choices"
   ]
  },
  {
   "cell_type": "code",
   "execution_count": 8,
   "id": "cae83914-466f-4147-b3dc-d465e2d14c1d",
   "metadata": {
    "tags": []
   },
   "outputs": [],
   "source": [
    "# List of strategies to test\n",
    "strategies = [\n",
    "        # Add your implementations here!\n",
    "    ]\n",
    "\n",
    "# Evaluate strategies\n",
    "rewards, best_action_choices = simulate(strategies)"
   ]
  },
  {
   "cell_type": "code",
   "execution_count": null,
   "id": "26977a77-58e4-4ded-9863-989343d4a065",
   "metadata": {
    "tags": []
   },
   "outputs": [],
   "source": [
    "# Plot results\n",
    "fig, (ax1, ax2) = plt.subplots(nrows=1, ncols=2, figsize=(14, 5))\n",
    "\n",
    "for strategy, reward in zip(strategies, rewards):\n",
    "    ax1.plot(reward, label=f\"{strategy.name}\", zorder=2)\n",
    "ax1.set_xlabel('Steps')\n",
    "ax1.set_ylabel('Average reward')\n",
    "ax1.grid(alpha=0.8, linestyle=':', zorder=0)\n",
    "ax1.set_title('Average reward of strategies')\n",
    "ax1.legend()\n",
    "\n",
    "for strategy, choices in zip(strategies, best_action_choices):\n",
    "    ax2.plot(choices, label=f\"{strategy.name}\")\n",
    "ax2.set_xlabel('Steps')\n",
    "ax2.set_ylabel('% Optimal action')\n",
    "ax2.grid(alpha=0.8, linestyle=':', zorder=0)\n",
    "ax2.set_title('% Optimal action choices of strategies')\n",
    "ax2.legend()\n",
    "\n",
    "plt.show()"
   ]
  },
  {
   "cell_type": "code",
   "execution_count": null,
   "id": "02e161cf-5244-4478-91cb-1e8cc34cc700",
   "metadata": {},
   "outputs": [],
   "source": []
  }
 ],
 "metadata": {
  "kernelspec": {
   "display_name": "Python 3 (ipykernel)",
   "language": "python",
   "name": "python3"
  },
  "language_info": {
   "codemirror_mode": {
    "name": "ipython",
    "version": 3
   },
   "file_extension": ".py",
   "mimetype": "text/x-python",
   "name": "python",
   "nbconvert_exporter": "python",
   "pygments_lexer": "ipython3",
   "version": "3.11.6"
  },
  "widgets": {
   "application/vnd.jupyter.widget-state+json": {
    "state": {},
    "version_major": 2,
    "version_minor": 0
   }
  }
 },
 "nbformat": 4,
 "nbformat_minor": 5
}
