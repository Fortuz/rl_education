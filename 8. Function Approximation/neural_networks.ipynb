{
  "cells": [
    {
      "cell_type": "markdown",
      "id": "33a1d3cb-9276-4d84-88f2-d19d08154a25",
      "metadata": {
        "id": "33a1d3cb-9276-4d84-88f2-d19d08154a25"
      },
      "source": [
        "![Logo](https://github.com/Fortuz/rl_education/blob/main/assets/logo.png?raw=1)\n",
        "\n",
        "Made by **Domonkos Nagy**\n",
        "\n",
        "[<img src=\"https://colab.research.google.com/assets/colab-badge.svg\">](https://colab.research.google.com/github/Fortuz/rl_education/blob/main/8.%20Function%20Approximation/neural_networks.ipynb)\n",
        "\n",
        "# Neural Networks in Pytorch\n",
        "<img src=\"https://github.com/Fortuz/rl_education/blob/main/8.%20Function%20Approximation/assets/pytorch.png?raw=1\" width=\"200\">\n",
        "\n",
        "This notebook walks through the process of creating, training and evaluating a convolutional neural network for handwritten digit classification using PyTorch.\n",
        "\n",
        "- Documentation for PyTorch: https://pytorch.org/docs/stable/index.html"
      ]
    },
    {
      "cell_type": "code",
      "execution_count": 1,
      "id": "4bf6bc96-52a3-40d0-b1da-379762763358",
      "metadata": {
        "id": "4bf6bc96-52a3-40d0-b1da-379762763358"
      },
      "outputs": [],
      "source": [
        "import torch\n",
        "import torch.nn as nn\n",
        "import torch.nn.functional as F\n",
        "import torch.optim as optim\n",
        "from torchvision import datasets, transforms\n",
        "import numpy as np\n",
        "import matplotlib.pyplot as plt"
      ]
    },
    {
      "cell_type": "markdown",
      "id": "98c51766-6f16-4b24-8d62-8d1696f3b2f5",
      "metadata": {
        "id": "98c51766-6f16-4b24-8d62-8d1696f3b2f5"
      },
      "source": [
        "## The network architecture\n",
        "\n",
        "To create a neural network, we have to inherit from the `torch.nn.Module` class, and define forward pass in the `forward` method.\n",
        "This network has two convolutional layers and one max-pooling layer, followed by two fully connected layers. The final layer has\n",
        "10 nodes, each corresponding to one of the 10 digits we want to classify. A visualization of this architecture can be seen below.\n",
        "\n",
        "The network also has two dropout layers, one after the max-pooling layer and one after the first fully connected layer.\n",
        "Dropout layers randomly zero out some of their inputs with probability $p$ (supplied as the initialization parameter), but they\n",
        "are only active during training, and have no effect during inference. Dropout layers are commonly used for regularization, to\n",
        "prevent overfitting.\n",
        "\n",
        "Except for the final layer, the activation function for all layers is the *ReLU* (**Re**ctified **L**inear **U**nit) function,\n",
        "defined simply as $\\text{ReLU}(x) := \\max(0, x)$. The activation for the final layer is the *LogSoftmax* function, which is\n",
        "the logarithm of the SoftMax function. The SoftMax function is defined as:\n",
        "\n",
        "$$\\sigma(z)_i := \\frac{e^{z_i}}{\\sum_{j=1}^K e^{z_j}} \\text{ for } i = 1,...,K$$\n",
        "\n",
        "Notice how it transforms the input vector to a probability distribution: each component of the output is between 0 and 1,\n",
        "and their sum is exactly 1. SoftMax is commonly used for classification, since it gives us a nice representation of how\n",
        "probable the network thinks that the input belongs to each of the classes. Taking the logarithm is beneficial for numerical stability.\n",
        "\n",
        "Also, notice how we only have to define the forward pass: the autograd engine behind PyTorch will manage the backward\n",
        "pass for any loss function.\n",
        "\n",
        "- This video by Andrej Karpathy is a great introduction to how backpropagation and PyTorch's autograd engine works: https://www.youtube.com/watch?v=VMj-3S1tku0\n",
        "\n",
        "<img src=\"https://github.com/Fortuz/rl_education/blob/main/8.%20Function%20Approximation/assets/nn.svg?raw=1\" width=\"1000\">\n",
        "\n",
        "*The network architecture*"
      ]
    },
    {
      "cell_type": "code",
      "execution_count": 2,
      "id": "f4ea1df0-27de-45c1-bbea-0f520935a21d",
      "metadata": {
        "id": "f4ea1df0-27de-45c1-bbea-0f520935a21d"
      },
      "outputs": [],
      "source": [
        "class Net(nn.Module):\n",
        "    def __init__(self):\n",
        "        super(Net, self).__init__()\n",
        "        # Convolutional layers\n",
        "        self.conv1 = nn.Conv2d(1, 32, 3)\n",
        "        self.conv2 = nn.Conv2d(32, 64, 3)\n",
        "        # Droput layers\n",
        "        self.dropout1 = nn.Dropout(0.25)\n",
        "        self.dropout2 = nn.Dropout(0.5)\n",
        "        # Fully connected layers\n",
        "        self.fc1 = nn.Linear(9216, 128)\n",
        "        self.fc2 = nn.Linear(128, 10)\n",
        "\n",
        "    def forward(self, x):\n",
        "        # Convolution 1\n",
        "        x = self.conv1(x)\n",
        "        x = F.relu(x)\n",
        "        # Convolution 2\n",
        "        x = self.conv2(x)\n",
        "        x = F.relu(x)\n",
        "        # Pooling, dropout, flattening\n",
        "        x = F.max_pool2d(x, 2)\n",
        "        x = self.dropout1(x)\n",
        "        x = torch.flatten(x, 1)\n",
        "        # Fully connected 1 + dropout\n",
        "        x = self.fc1(x)\n",
        "        x = F.relu(x)\n",
        "        x = self.dropout2(x)\n",
        "        # Fully connected 2\n",
        "        x = self.fc2(x)\n",
        "        output = F.log_softmax(x, dim=1)\n",
        "        return output"
      ]
    },
    {
      "cell_type": "code",
      "execution_count": 3,
      "id": "688a78d3-eee7-4e6e-9a3b-04d75fac28c0",
      "metadata": {
        "id": "688a78d3-eee7-4e6e-9a3b-04d75fac28c0"
      },
      "outputs": [],
      "source": [
        "# Hyperparameters\n",
        "ALPHA = 0.001  # Learning rate\n",
        "LOG_INTERVAL = 150  # Batches to wait before logging training status\n",
        "N_EPOCHS = 5  # Number of iterations over the training set\n",
        "TRAIN_BATCH_SIZE = 128  # Batch size for training\n",
        "TEST_BATCH_SIZE = 1000  # Batch size for testing"
      ]
    },
    {
      "cell_type": "markdown",
      "id": "6e5635ef-28a0-40d4-a2cc-4a9abf9109d4",
      "metadata": {
        "id": "6e5635ef-28a0-40d4-a2cc-4a9abf9109d4"
      },
      "source": [
        "## Devices in PyTorch\n",
        "\n",
        "To speed up training, you can transfer computations to specific devices using the `to(device)` function (see below). Before that, we have to specify which device\n",
        "do we want to use: this block automatically selects the most powerful device based on hardware capabilities."
      ]
    },
    {
      "cell_type": "code",
      "execution_count": 4,
      "id": "8571b80f-d148-47e1-a6bb-76eb7439f0ab",
      "metadata": {
        "id": "8571b80f-d148-47e1-a6bb-76eb7439f0ab",
        "outputId": "81b32853-89bc-4cb7-a859-cb28a9bb1322",
        "colab": {
          "base_uri": "https://localhost:8080/"
        }
      },
      "outputs": [
        {
          "output_type": "stream",
          "name": "stdout",
          "text": [
            "Device: cuda\n"
          ]
        }
      ],
      "source": [
        "# Set device\n",
        "use_cuda = torch.cuda.is_available()\n",
        "use_mps = torch.backends.mps.is_available()\n",
        "\n",
        "device = torch.device(\"cuda\") if torch.cuda.is_available() else torch.device(\"cpu\")\n",
        "\n",
        "if use_cuda:\n",
        "    device = torch.device(\"cuda\")\n",
        "elif use_mps:\n",
        "    device = torch.device(\"mps\")\n",
        "\n",
        "print(f'Device: {device}')\n",
        "\n",
        "# Set train/test args\n",
        "train_kwargs = {'batch_size': TRAIN_BATCH_SIZE, 'shuffle': True}\n",
        "test_kwargs = {'batch_size': TEST_BATCH_SIZE, 'shuffle': True}"
      ]
    },
    {
      "cell_type": "markdown",
      "id": "1c13698d-b39c-43a6-a14f-b6ac9a2a041a",
      "metadata": {
        "id": "1c13698d-b39c-43a6-a14f-b6ac9a2a041a"
      },
      "source": [
        "## The MNIST dataset\n",
        "\n",
        "The MNIST dataset contains 70,000 28x28 pixel images of handwritten digits from 0 to 9.\n",
        "Below we are loading the dataset, and defining two `DataLoader`s, one for the training set, and another for the test set. A PyTorch\n",
        "`DataLoader` gives us an iterator over a dataset, with the possibility to define batch size, reshuffling, and other useful features.\n",
        "\n",
        "<img src=\"https://github.com/Fortuz/rl_education/blob/main/8.%20Function%20Approximation/assets/mnist.png?raw=1\" width=\"600\">\n",
        "\n",
        "*Sample images from MNIST test dataset (source: Wikipedia)*"
      ]
    },
    {
      "cell_type": "code",
      "execution_count": 5,
      "id": "9f889d59-b7d6-43e6-84f5-f4da75127dce",
      "metadata": {
        "id": "9f889d59-b7d6-43e6-84f5-f4da75127dce"
      },
      "outputs": [],
      "source": [
        "# Load train and test set\n",
        "train_set = datasets.MNIST(root='data',\n",
        "                           train=True,\n",
        "                           download=True,\n",
        "                           transform=transforms.ToTensor())\n",
        "test_set = datasets.MNIST(root='data',\n",
        "                          train=False,\n",
        "                          download=True,\n",
        "                          transform=transforms.ToTensor())\n",
        "\n",
        "# Create dataloaders\n",
        "train_loader = torch.utils.data.DataLoader(train_set, **train_kwargs)\n",
        "test_loader = torch.utils.data.DataLoader(test_set, **test_kwargs)"
      ]
    },
    {
      "cell_type": "code",
      "execution_count": 6,
      "id": "459723ab-bba8-471b-9434-b076d2d0da7f",
      "metadata": {
        "id": "459723ab-bba8-471b-9434-b076d2d0da7f",
        "outputId": "b1376c42-d685-48d0-e8f6-8ad1e2f7ed88",
        "colab": {
          "base_uri": "https://localhost:8080/"
        }
      },
      "outputs": [
        {
          "output_type": "stream",
          "name": "stdout",
          "text": [
            "-- TRAIN SET --\n",
            "Dataset MNIST\n",
            "    Number of datapoints: 60000\n",
            "    Root location: data\n",
            "    Split: Train\n",
            "    StandardTransform\n",
            "Transform: ToTensor()\n",
            "Data shape: torch.Size([60000, 28, 28])\n",
            "Targets shape: torch.Size([60000])\n",
            "\n",
            "-- TEST SET --\n",
            "Dataset MNIST\n",
            "    Number of datapoints: 10000\n",
            "    Root location: data\n",
            "    Split: Test\n",
            "    StandardTransform\n",
            "Transform: ToTensor()\n",
            "Data shape: torch.Size([10000, 28, 28])\n",
            "Targets shape: torch.Size([10000])\n"
          ]
        }
      ],
      "source": [
        "# Print dataset info\n",
        "print('-- TRAIN SET --')\n",
        "print(train_set)\n",
        "print(f'Data shape: {train_set.data.shape}')\n",
        "print(f'Targets shape: {train_set.targets.shape}')\n",
        "print()\n",
        "print('-- TEST SET --')\n",
        "print(test_set)\n",
        "print(f'Data shape: {test_set.data.shape}')\n",
        "print(f'Targets shape: {test_set.targets.shape}')"
      ]
    },
    {
      "cell_type": "markdown",
      "id": "51d65609-0c1a-4e51-9253-ec85a3f85436",
      "metadata": {
        "id": "51d65609-0c1a-4e51-9253-ec85a3f85436"
      },
      "source": [
        "## Training and testing\n",
        "\n",
        "For each epoch, we train the model on the training set and then evaluate on the test set. Before either training or evaluating, the mode\n",
        "of the model is set: some layers behave differently in `train` mode than in `eval` mode, for example, the dropout layers are only active\n",
        "during training.\n",
        "\n",
        "After setting the mode, the training function loops over the dataset: for each batch, it zeroes out the gradients of the model parameters,\n",
        "runs a forward pass, calculates the loss, then runs a backward pass, and finally makes an optimization step. Here we are using the Adam\n",
        "optimizer.\n",
        "\n",
        "The test function works similarly, but here we don't perform optimization steps, and since gradient calculations are unecessary for testing,\n",
        "we are using the `no_grad` context manager for improved speed."
      ]
    },
    {
      "cell_type": "code",
      "execution_count": 7,
      "id": "41ee3ccb-1d6d-4f19-bda0-ef6fb74b979e",
      "metadata": {
        "id": "41ee3ccb-1d6d-4f19-bda0-ef6fb74b979e"
      },
      "outputs": [],
      "source": [
        "# Initialize model\n",
        "model = Net().to(device)\n",
        "# Initialize optimizer\n",
        "optimizer = optim.Adam(model.parameters(), lr=ALPHA)"
      ]
    },
    {
      "cell_type": "code",
      "execution_count": 8,
      "id": "25d292a6-6034-4bfa-bc2c-286c596bfa1c",
      "metadata": {
        "id": "25d292a6-6034-4bfa-bc2c-286c596bfa1c"
      },
      "outputs": [],
      "source": [
        "def train(model, device, train_loader, optimizer, epoch):\n",
        "    model.train()  # Set model to train mode\n",
        "\n",
        "    for batch_idx, (data, target) in enumerate(train_loader):\n",
        "        data, target = data.to(device), target.to(device)  # Transfer data and target to device\n",
        "        optimizer.zero_grad()  # Reset gradients\n",
        "\n",
        "        output = model(data)  # Forward pass\n",
        "        loss = F.nll_loss(output, target)  # Negative log-likelihood loss\n",
        "        loss.backward()  # Backward pass\n",
        "        optimizer.step()  #  Optimization\n",
        "        if batch_idx % LOG_INTERVAL == 0:\n",
        "            print('Train Epoch: {} [{}/{} ({:.0f}%)]\\tLoss: {:.6f}'.format(\n",
        "                epoch+1, batch_idx * len(data), len(train_loader.dataset),\n",
        "                100. * batch_idx / len(train_loader), loss.item()))"
      ]
    },
    {
      "cell_type": "code",
      "execution_count": 9,
      "id": "8f2e4055-3c02-4268-ac87-03945e738dd3",
      "metadata": {
        "id": "8f2e4055-3c02-4268-ac87-03945e738dd3"
      },
      "outputs": [],
      "source": [
        "def test(model, device, test_loader):\n",
        "    model.eval()  # Set model to evaluation mode\n",
        "    test_loss = 0\n",
        "    correct = 0\n",
        "\n",
        "    # Disable gradient calculation\n",
        "    with torch.no_grad():\n",
        "        for data, target in test_loader:\n",
        "            data, target = data.to(device), target.to(device)  # Transfer data and target to device\n",
        "            output = model(data)  # Forward pass\n",
        "            test_loss += F.nll_loss(output, target, reduction='sum').item()  # Sum up batch loss\n",
        "            pred = output.argmax(dim=1, keepdim=True)  # Get the index of the max log-probability\n",
        "            correct += pred.eq(target.view_as(pred)).sum().item()  # Add up correct predictions\n",
        "\n",
        "    test_loss /= len(test_loader.dataset)\n",
        "\n",
        "    print('\\nTest set: Average loss: {:.4f}, Accuracy: {}/{} ({:.0f}%)\\n'.format(\n",
        "        test_loss, correct, len(test_loader.dataset),\n",
        "        100. * correct / len(test_loader.dataset)))"
      ]
    },
    {
      "cell_type": "code",
      "execution_count": 10,
      "id": "07c87f32-429d-498e-83e6-6412ae54e8c1",
      "metadata": {
        "scrolled": true,
        "id": "07c87f32-429d-498e-83e6-6412ae54e8c1",
        "outputId": "3a08d069-6af9-4898-e853-122d819f0388",
        "colab": {
          "base_uri": "https://localhost:8080/"
        }
      },
      "outputs": [
        {
          "output_type": "stream",
          "name": "stdout",
          "text": [
            "Train Epoch: 1 [0/60000 (0%)]\tLoss: 2.299655\n",
            "Train Epoch: 1 [19200/60000 (32%)]\tLoss: 0.144578\n",
            "Train Epoch: 1 [38400/60000 (64%)]\tLoss: 0.240260\n",
            "Train Epoch: 1 [57600/60000 (96%)]\tLoss: 0.122712\n",
            "\n",
            "Test set: Average loss: 0.0551, Accuracy: 9825/10000 (98%)\n",
            "\n",
            "Train Epoch: 2 [0/60000 (0%)]\tLoss: 0.164314\n",
            "Train Epoch: 2 [19200/60000 (32%)]\tLoss: 0.067375\n",
            "Train Epoch: 2 [38400/60000 (64%)]\tLoss: 0.110783\n",
            "Train Epoch: 2 [57600/60000 (96%)]\tLoss: 0.117167\n",
            "\n",
            "Test set: Average loss: 0.0400, Accuracy: 9862/10000 (99%)\n",
            "\n",
            "Train Epoch: 3 [0/60000 (0%)]\tLoss: 0.072603\n",
            "Train Epoch: 3 [19200/60000 (32%)]\tLoss: 0.052216\n",
            "Train Epoch: 3 [38400/60000 (64%)]\tLoss: 0.047382\n",
            "Train Epoch: 3 [57600/60000 (96%)]\tLoss: 0.096144\n",
            "\n",
            "Test set: Average loss: 0.0326, Accuracy: 9883/10000 (99%)\n",
            "\n",
            "Train Epoch: 4 [0/60000 (0%)]\tLoss: 0.104605\n",
            "Train Epoch: 4 [19200/60000 (32%)]\tLoss: 0.073846\n",
            "Train Epoch: 4 [38400/60000 (64%)]\tLoss: 0.048271\n",
            "Train Epoch: 4 [57600/60000 (96%)]\tLoss: 0.041731\n",
            "\n",
            "Test set: Average loss: 0.0332, Accuracy: 9888/10000 (99%)\n",
            "\n",
            "Train Epoch: 5 [0/60000 (0%)]\tLoss: 0.034623\n",
            "Train Epoch: 5 [19200/60000 (32%)]\tLoss: 0.017874\n",
            "Train Epoch: 5 [38400/60000 (64%)]\tLoss: 0.039566\n",
            "Train Epoch: 5 [57600/60000 (96%)]\tLoss: 0.022762\n",
            "\n",
            "Test set: Average loss: 0.0286, Accuracy: 9907/10000 (99%)\n",
            "\n"
          ]
        }
      ],
      "source": [
        "for epoch in range(N_EPOCHS):\n",
        "    train(model, device, train_loader, optimizer, epoch)\n",
        "    test(model, device, test_loader)\n",
        "\n",
        "model_scripted = torch.jit.script(model)  # Export to TorchScript\n",
        "model_scripted.save('model_scripted.pt')  # Save"
      ]
    },
    {
      "cell_type": "markdown",
      "id": "a5632291-2937-4545-a274-651b44517591",
      "metadata": {
        "id": "a5632291-2937-4545-a274-651b44517591"
      },
      "source": [
        "## Results\n",
        "\n",
        "The following block shows a few random examples from the test set along with the predictions made by the model."
      ]
    },
    {
      "cell_type": "code",
      "execution_count": 11,
      "id": "eac4dd12-2d38-47e0-a07b-d607af2060d2",
      "metadata": {
        "id": "eac4dd12-2d38-47e0-a07b-d607af2060d2",
        "outputId": "6be109a1-13c3-448c-c197-5a92589790c4",
        "colab": {
          "base_uri": "https://localhost:8080/",
          "height": 807
        }
      },
      "outputs": [
        {
          "output_type": "display_data",
          "data": {
            "text/plain": [
              "<Figure size 800x800 with 16 Axes>"
            ],
            "image/png": "[encoded data removed]"
          },
          "metadata": {}
        }
      ],
      "source": [
        "model = torch.jit.load('model_scripted.pt')  # Load model\n",
        "model.eval()\n",
        "\n",
        "# Plot examples\n",
        "n_rows = 4\n",
        "n_cols = 4\n",
        "\n",
        "fig = plt.figure(figsize=(n_cols * 2, n_rows * 2))\n",
        "for i in range(n_rows * n_cols):\n",
        "    ax = fig.add_subplot(n_rows, n_cols, i + 1)\n",
        "    ax.tick_params(left=False, right=False, labelleft=False,\n",
        "                    labelbottom=False, bottom=False)\n",
        "    data, target = test_set[np.random.randint(0, test_set.data.shape[0])]\n",
        "    data = data.unsqueeze(0).to(device)\n",
        "    output = model(data)\n",
        "    prediction = output.argmax(dim=1, keepdim=True).item()\n",
        "    image = data.squeeze(0).squeeze(0).cpu().numpy()\n",
        "\n",
        "    ax.imshow(image, cmap='gray')\n",
        "    ax.set_title(f'Prediction: {prediction}')\n",
        "plt.tight_layout()\n",
        "plt.show()"
      ]
    },
    {
      "cell_type": "code",
      "execution_count": 11,
      "id": "efabbd39-ffda-42a2-a932-baa5b7a91adf",
      "metadata": {
        "id": "efabbd39-ffda-42a2-a932-baa5b7a91adf"
      },
      "outputs": [],
      "source": []
    }
  ],
  "metadata": {
    "kernelspec": {
      "display_name": "Python 3",
      "name": "python3"
    },
    "language_info": {
      "codemirror_mode": {
        "name": "ipython",
        "version": 3
      },
      "file_extension": ".py",
      "mimetype": "text/x-python",
      "name": "python",
      "nbconvert_exporter": "python",
      "pygments_lexer": "ipython3",
      "version": "3.11.6"
    },
    "colab": {
      "provenance": [],
      "gpuType": "T4"
    },
    "accelerator": "GPU"
  },
  "nbformat": 4,
  "nbformat_minor": 5
}