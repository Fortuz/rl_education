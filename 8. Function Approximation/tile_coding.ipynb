{
 "cells": [
  {
   "cell_type": "markdown",
   "id": "3a5fcd2b-1462-476e-b1c1-d0557c131797",
   "metadata": {},
   "source": [
    "![Logo](../assets/logo.png)\n",
    "\n",
    "Made by **Domonkos Nagy**\n",
    "\n",
    "[<img src=\"https://colab.research.google.com/assets/colab-badge.svg\">](https://colab.research.google.com/github/Fortuz/rl_education/blob/main/8.%20Function%20Approximation/tile_coding.ipynb)\n",
    "\n",
    "# Tile Coding\n",
    "\n",
    "Tile coding is a simple function approximation method that involves splitting a continuous space to a finite number of regions.\n",
    "The simplest form of tile coding would be state aggregation: the left side of the figure below shows\n",
    "a 2-dimensional space partitioned into 16 distinct regions. A partitioning like this is called a *tiling*, and each partition\n",
    "of a tiling is called a *tile*: each tile has some value associated with it, wich can be learned.\n",
    "If just this single tiling were used, then the\n",
    "state indicated by the white spot would be represented by the single feature whose tile\n",
    "it falls within; generalization would be complete to all states within the same tile and\n",
    "nonexistent to states outside it.\n",
    "\n",
    "To achieve better generalization, we can use multiple different tilings: the right side of the figure below shows the same space\n",
    "with 4 tilings, each of them offset by a small amount. To approximate some function at any point in the space, the values\n",
    "of the tiles that the point falls inside are simply added up.\n",
    "\n",
    "![Tile coding example](assets/tile_coding.png)\n",
    "\n",
    "*Figure from Sutton & Barto, pg. 217*\n",
    "\n",
    "In this notebook, we implement tile coding using a simple class that can be used similarly to a Q-table, and then test it\n",
    "on a two-variable target function. You can think of the the target function of the state-value function (or $V$-function)\n",
    "of an MDP. Later, we will extend our class to be able to deal with action-value functions (or $Q$-functions) as well,\n",
    "making it effectively work like a Q-table for continuous environments."
   ]
  },
  {
   "cell_type": "code",
   "execution_count": null,
   "id": "02fef9c6-79ad-4f8a-b9b7-347142f3fe57",
   "metadata": {},
   "outputs": [],
   "source": [
    "import numpy as np\n",
    "import matplotlib.pyplot as plt\n",
    "from tqdm.notebook import trange\n",
    "%config InlineBackend.print_figure_kwargs = {'pad_inches': .3}"
   ]
  },
  {
   "cell_type": "code",
   "execution_count": null,
   "id": "c0b72d2a-7a45-4c09-9902-03e690b96b27",
   "metadata": {},
   "outputs": [],
   "source": [
    "# Domain boundaries\n",
    "LOW = np.array([0, 0])\n",
    "HIGH = np.array([6, 6])"
   ]
  },
  {
   "cell_type": "code",
   "execution_count": null,
   "id": "7dac29ce-54d7-411f-ab53-c6fae0655d1e",
   "metadata": {},
   "outputs": [],
   "source": [
    "# The function to approximate\n",
    "def target(x, y):\n",
    "    return np.sin(x) + np.cos(y)"
   ]
  },
  {
   "cell_type": "code",
   "execution_count": null,
   "id": "192ff9e8-7cbd-4a50-b4fc-f335e82e1438",
   "metadata": {},
   "outputs": [],
   "source": [
    "# Plot function surface\n",
    "fig = plt.figure(figsize=(8, 8))\n",
    "ax = fig.add_subplot(projection='3d')\n",
    "x, y = (np.linspace(LOW[dim], HIGH[dim], 100) for dim in range(2))\n",
    "x, y = np.meshgrid(x, y)\n",
    "z = target(x, y)\n",
    "true_surface = ax.plot_wireframe(x, y, z, color=(0.1, 0.2, 0.5, 0.5))\n",
    "\n",
    "ax.set_xlabel('x')\n",
    "ax.set_ylabel('y')\n",
    "ax.set_zlabel('z')\n",
    "ax.set_title('Target function')\n",
    "plt.show()"
   ]
  },
  {
   "cell_type": "markdown",
   "id": "53f2518e-5f49-4641-9a93-1fb14003044b",
   "metadata": {},
   "source": [
    "## Implementing Tile Coding\n",
    "\n",
    "The `TiledValueTable` class below is a very simple implementation of tile coding. The idea is that if we have an object `tvt` of type `TiledValueTable`,\n",
    "we should be able to index it just as we would a Q-table, but with continuous values instead: for example, `tvt[1.2, 3.4]` would return our approximation\n",
    "for the value of the target function in $(1.2, 3.4)$. This can be calculated by determining which tile the input vector falls in for each tiling,\n",
    "and adding up the values corresponding to those tiles. The `__getitem__` dunder method in Python can be used to implement this.\n",
    "\n",
    "In addition to querying the table, we also have to be able to update our estimations: we want to be able to write `tvt[1.2, 3.4] = 6`, just as we do\n",
    "with Q-tables. Since `tvt[1.2, 3.4]` is not a single value, but a sum of multiple tile-values, we should shift all of those values so that they\n",
    "add up to the desired new value. The sum should be shifted by `new_value - old_value`, but since we have `n` different tilings, each tile-value\n",
    "has to be shifted by only `(new_value - old_value) / n`. To implement this, we can use the `__setitem__` dunder method.\n",
    "\n",
    "For both methods, we need to be able to determine for each tiling which tile does a certain vector fall into. This can easily be implemented\n",
    "with NumPy's `searchsorted` method.\n",
    "\n",
    "Below there is a visualization of the tilings of the `tvt`. After that, we \"train\" the table, by randomly sampling values from the input space,\n",
    "calculating the target value with some added noise, and shifting the `tvt` value towards that target. Notice how the update looks exactly like a \n",
    "Q-learning update, even though under the hood it's quite different. Finally, we compare the target function to our approximations.\n",
    "\n",
    "***\n",
    "\n",
    "### **Your Task**\n",
    "\n",
    "Implement *Tile Coding* by completing the `__init__`, `__getitem__` and `__setitem__` methods below! The arguments for the initializer are:\n",
    "\n",
    "- `n_dims`: The number of dimensions of the domain.\n",
    "- `low` and `high`: Arrays of length `n_dims` which contain the minimum and maximum of the domain, respectively.\n",
    "- `offsets`: A list of tuples, each of which corresponds to a tiling. The components of a tuple are the offset values with which the corresponding tiling should be shifted.\n",
    "- `n_bins`: The number of bins per dimension per tiling.\n",
    "\n",
    "For example, if `n_dims = 2`, `low = [0, -2]` and `high = [7, 5]`, then the value table should be two-dimensional and span the 2D interval between 0 and 7 on the $x$ axis and -2 and 5 on the $y$ axis. If `offsets = [(0, 0), (1, 2)]`, then you should create two 2D tilings, one which is not shifted and another which is shifted by 1 in the first dimension and 2 in the second dimension. If `n_bins = 10`, then each of these tilings should have 10 bins in each of their dimensions. So, you'll end up with two 10x10 grids, with one shifted by a vector of $(1, 2)$ from the other.\n",
    "\n",
    "#### **Hints:**\n",
    "\n",
    "- Examples of the `__getitem__` and `__setitem__` methods: https://www.tutorialspoint.com/getitem-and-setitem-in-python\n",
    "- Documentation for `np.searchsorted`: https://numpy.org/doc/stable/reference/generated/numpy.searchsorted.html\n",
    "\n",
    "***"
   ]
  },
  {
   "cell_type": "code",
   "execution_count": null,
   "id": "50b50899-5506-4bd0-a25a-37ffbc790311",
   "metadata": {},
   "outputs": [],
   "source": [
    "class TiledValueTable:\n",
    "    def __init__(self, n_dims, low, high, offsets, n_bins):\n",
    "\n",
    "        # TODO: Implement this!\n",
    "        \n",
    "    def __getitem__(self, args):\n",
    "        \n",
    "        # TODO: Implement this!\n",
    "\n",
    "    def __setitem__(self, args, new):\n",
    "        \n",
    "        # TODO: Implement this!"
   ]
  },
  {
   "cell_type": "code",
   "execution_count": null,
   "id": "52335325-6eea-4cc3-9d29-1305a01ded72",
   "metadata": {},
   "outputs": [],
   "source": [
    "# Hyperparameters\n",
    "N_TILINGS = 4  # Number of tilings\n",
    "N_BINS = 12  # Number of bins per dimension per tiling\n",
    "N_STEPS = 100_000  # Number of learning steps\n",
    "ALPHA = 0.1  # Learning rate\n",
    "NOISE = 0.1  # Variance of the target"
   ]
  },
  {
   "cell_type": "code",
   "execution_count": null,
   "id": "f2a2381a-768a-4f73-a386-d2d4df23b210",
   "metadata": {},
   "outputs": [],
   "source": [
    "# Set asymmetrical offsets to avoid artifacts in\n",
    "# generalization; see Sutton & Barto pg. 218-220 for details\n",
    "tile_width = (HIGH - LOW) / N_BINS\n",
    "unit = tile_width / N_TILINGS\n",
    "offsets = [(unit[0] * i, 3 * unit[1] * i) for i in range(N_TILINGS)]\n",
    "\n",
    "# Initialize tiled value table\n",
    "tvt = TiledValueTable(2, LOW, HIGH, offsets, N_BINS)"
   ]
  },
  {
   "cell_type": "code",
   "execution_count": null,
   "id": "60bba334-3cd0-4b7b-87e3-64cda7e55d1a",
   "metadata": {},
   "outputs": [],
   "source": [
    "# Visualize tilings\n",
    "colors = ['tab:blue', 'tab:orange', 'tab:green', 'tab:red']\n",
    "linestyles = ['-', '--', ':', '-.']\n",
    "legend_lines = []\n",
    "\n",
    "fig, ax = plt.subplots(figsize=(10,10))\n",
    "for i, grid in enumerate(tvt.tilings):\n",
    "    for x in grid[0]:\n",
    "        line = ax.axvline(x=x, color=colors[i % len(colors)], linestyle=linestyles[i % len(linestyles)])\n",
    "    for y in grid[1]:\n",
    "        line = ax.axhline(y=y, color=colors[i % len(colors)], linestyle=linestyles[i % len(linestyles)], label=i)\n",
    "    legend_lines.append(line)\n",
    "\n",
    "ax.legend(legend_lines, [f\"Tiling #{t}\" for t in range(len(legend_lines))], facecolor='white', framealpha=0.9)\n",
    "ax.set_title(\"Tilings\")\n",
    "ax.set_aspect('equal', adjustable='box')\n",
    "\n",
    "plt.show()"
   ]
  },
  {
   "cell_type": "code",
   "execution_count": null,
   "id": "df743a47-ce26-44d6-acbf-c125bd341f98",
   "metadata": {},
   "outputs": [],
   "source": [
    "# Training\n",
    "for _ in trange(N_STEPS):\n",
    "    x, y = np.random.rand(2) * (HIGH - LOW) + LOW\n",
    "    z = target(x, y) + np.random.normal(0, NOISE)  # Target function value + Gaussian noise\n",
    "    tvt[x, y] += ALPHA * (z - tvt[x, y])"
   ]
  },
  {
   "cell_type": "code",
   "execution_count": null,
   "id": "4da3948e-6cf6-4a35-b774-e8bf6f733a3a",
   "metadata": {},
   "outputs": [],
   "source": [
    "# Calculating target & learned values on the domain\n",
    "x, y = (np.linspace(LOW[dim], HIGH[dim], (HIGH[dim] - LOW[dim]) * 100) for dim in range(2))\n",
    "x, y = np.meshgrid(x, y)\n",
    "z = target(x, y)\n",
    "\n",
    "z_learned = np.zeros(x.shape)\n",
    "for i in np.ndindex(x.shape):\n",
    "    z_learned[i] = tvt[x[i], y[i]]\n",
    "\n",
    "# Plot target surface\n",
    "fig = plt.figure(figsize=(14, 7))\n",
    "ax = fig.add_subplot(121, projection='3d')\n",
    "true_surface = ax.plot_wireframe(x, y, z,\n",
    "                                 color=(0.1, 0.2, 0.5, 0.5),\n",
    "                                 label='True values')\n",
    "ax.set_xlabel('x')\n",
    "ax.set_ylabel('y')\n",
    "ax.set_zlabel('z')\n",
    "ax.set_title('Target Surface')\n",
    "\n",
    "# Plot learned surface\n",
    "ax = fig.add_subplot(122, projection='3d')\n",
    "learned_surface = ax.plot_surface(x, y, z_learned, cmap='plasma',\n",
    "                                  alpha=.7, label='Learned values')\n",
    "ax.set_xlabel('x')\n",
    "ax.set_ylabel('y')\n",
    "ax.set_zlabel('z')\n",
    "ax.set_title('Learned Surface')\n",
    "\n",
    "plt.tight_layout()\n",
    "plt.show()"
   ]
  },
  {
   "cell_type": "code",
   "execution_count": null,
   "id": "90e24b32-a25d-4903-993e-be8a9ab22b21",
   "metadata": {},
   "outputs": [],
   "source": []
  }
 ],
 "metadata": {
  "kernelspec": {
   "display_name": "Python 3 (ipykernel)",
   "language": "python",
   "name": "python3"
  },
  "language_info": {
   "codemirror_mode": {
    "name": "ipython",
    "version": 3
   },
   "file_extension": ".py",
   "mimetype": "text/x-python",
   "name": "python",
   "nbconvert_exporter": "python",
   "pygments_lexer": "ipython3",
   "version": "3.11.6"
  },
  "widgets": {
   "application/vnd.jupyter.widget-state+json": {
    "state": {
     "0f5fa94743924995be68afe10b9ba613": {
      "model_module": "@jupyter-widgets/controls",
      "model_module_version": "2.0.0",
      "model_name": "ProgressStyleModel",
      "state": {
       "description_width": ""
      }
     },
     "10aa3f6bd218478eaeb604367990795e": {
      "model_module": "@jupyter-widgets/base",
      "model_module_version": "2.0.0",
      "model_name": "LayoutModel",
      "state": {}
     },
     "33dffe3e4ffb456591db056a8772ecc2": {
      "model_module": "@jupyter-widgets/controls",
      "model_module_version": "2.0.0",
      "model_name": "HTMLModel",
      "state": {
       "layout": "IPY_MODEL_c1ccaddfec6f4001ab2d25883f22596c",
       "style": "IPY_MODEL_acf3143f631f48b994380a807e8222ca",
       "value": "100%"
      }
     },
     "6d260d965f8e4d28b0ecb4cb2746ba25": {
      "model_module": "@jupyter-widgets/base",
      "model_module_version": "2.0.0",
      "model_name": "LayoutModel",
      "state": {}
     },
     "7ae71b5c114b4d0b81ccc4a4f74c101c": {
      "model_module": "@jupyter-widgets/controls",
      "model_module_version": "2.0.0",
      "model_name": "HTMLStyleModel",
      "state": {
       "description_width": "",
       "font_size": null,
       "text_color": null
      }
     },
     "7d44b2da042b4718b4075a4669a78338": {
      "model_module": "@jupyter-widgets/controls",
      "model_module_version": "2.0.0",
      "model_name": "HBoxModel",
      "state": {
       "children": [
        "IPY_MODEL_33dffe3e4ffb456591db056a8772ecc2",
        "IPY_MODEL_e3bc0a1fe8094fdc9d5c0f42cd202085",
        "IPY_MODEL_ba36732c9f6f412ab65774c73c2d3462"
       ],
       "layout": "IPY_MODEL_6d260d965f8e4d28b0ecb4cb2746ba25"
      }
     },
     "a87c8b76927b408f900e6719455943b0": {
      "model_module": "@jupyter-widgets/base",
      "model_module_version": "2.0.0",
      "model_name": "LayoutModel",
      "state": {}
     },
     "acf3143f631f48b994380a807e8222ca": {
      "model_module": "@jupyter-widgets/controls",
      "model_module_version": "2.0.0",
      "model_name": "HTMLStyleModel",
      "state": {
       "description_width": "",
       "font_size": null,
       "text_color": null
      }
     },
     "ba36732c9f6f412ab65774c73c2d3462": {
      "model_module": "@jupyter-widgets/controls",
      "model_module_version": "2.0.0",
      "model_name": "HTMLModel",
      "state": {
       "layout": "IPY_MODEL_a87c8b76927b408f900e6719455943b0",
       "style": "IPY_MODEL_7ae71b5c114b4d0b81ccc4a4f74c101c",
       "value": " 100000/100000 [00:10&lt;00:00, 9853.44it/s]"
      }
     },
     "c1ccaddfec6f4001ab2d25883f22596c": {
      "model_module": "@jupyter-widgets/base",
      "model_module_version": "2.0.0",
      "model_name": "LayoutModel",
      "state": {}
     },
     "e3bc0a1fe8094fdc9d5c0f42cd202085": {
      "model_module": "@jupyter-widgets/controls",
      "model_module_version": "2.0.0",
      "model_name": "FloatProgressModel",
      "state": {
       "bar_style": "success",
       "layout": "IPY_MODEL_10aa3f6bd218478eaeb604367990795e",
       "max": 100000,
       "style": "IPY_MODEL_0f5fa94743924995be68afe10b9ba613",
       "value": 100000
      }
     }
    },
    "version_major": 2,
    "version_minor": 0
   }
  }
 },
 "nbformat": 4,
 "nbformat_minor": 5
}
