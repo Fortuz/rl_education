{
 "cells": [
  {
   "cell_type": "markdown",
   "metadata": {},
   "source": [
    "![\"Logo\"](https://github.com/Fortuz/rl_education/blob/main/assets/logo.png?raw=1)\n",
    "\n",
    "Created by **Zoltán Barta**\n",
    "\n",
    "[<img src=\"https://colab.research.google.com/assets/colab-badge.svg\">](https://colab.research.google.com/github/Fortuz/rl_education/blob/main/DQN/cnn_and_wrapper_example.ipynb)\n"
   ]
  },
  {
   "cell_type": "markdown",
   "metadata": {},
   "source": [
    "# Introduction to Convolutional Neural Networks (CNNs) in Reinforcement Learning\n",
    "\n",
    "In reinforcement learning (RL), agents often interact with environments through raw pixel inputs, such as RGB image frames from a camera or game screen. These high-dimensional observations contain rich information but are not directly suitable for traditional policy networks like multilayer perceptrons (MLPs), which expect compact, structured input.\n",
    "\n",
    "This is where **Convolutional Neural Networks (CNNs)** come into play.\n",
    "\n",
    "CNNs are used to **extract spatial features** from image inputs and convert them into lower-dimensional embeddings that are more meaningful for decision-making. In RL settings like Atari environments (e.g., Pong, Breakout), agents receive stacks of raw image frames (typically 84x84 pixels) as input. A CNN can process these stacked frames to produce a feature vector, which is then passed to an MLP that outputs the final action logits.\n",
    "\n",
    "### When to Use CNNs in RL\n",
    "Use CNNs when:\n",
    "- The observation space includes images or video frames (e.g. `Box(84, 84, 3)` or frame stacks like `Box(4, 84, 84)`).\n",
    "- The spatial layout of pixels encodes important information (e.g. object positions, motion).\n",
    "- You want to reduce high-dimensional input into a compact state representation for downstream use in the policy.\n",
    "\n",
    "---\n",
    "\n",
    "### Example: CNN + MLP Policy\n",
    "\n",
    "Below is a typical setup for an RL agent using a CNN to process visual input, followed by an MLP head that maps the features to actions.\n"
   ]
  },
  {
   "cell_type": "code",
   "execution_count": 1,
   "metadata": {},
   "outputs": [],
   "source": [
    "import gymnasium as gym\n",
    "import ale_py\n",
    "\n",
    "gym.register_envs(ale_py) \n",
    "import torch\n",
    "import torch.nn as nn\n",
    "import torch.nn.functional as F\n",
    "import numpy as np\n",
    "import matplotlib.pyplot as plt\n"
   ]
  },
  {
   "cell_type": "code",
   "execution_count": 2,
   "metadata": {},
   "outputs": [],
   "source": [
    "class CNNFeatureExtractor(nn.Module):\n",
    "    def __init__(self, in_channels=4, feature_dim=512):\n",
    "        super().__init__()\n",
    "        self.conv = nn.Sequential(\n",
    "            nn.Conv2d(in_channels, 32, kernel_size=8, stride=4),\n",
    "            nn.ReLU(),\n",
    "            nn.Conv2d(32, 64, kernel_size=4, stride=2),\n",
    "            nn.ReLU(),\n",
    "            nn.Conv2d(64, 64, kernel_size=3, stride=1),\n",
    "            nn.ReLU()\n",
    "        )\n",
    "        self.flatten = nn.Flatten()\n",
    "        self.fc = nn.Linear(7 * 7 * 64, feature_dim)  # assuming input is 84x84\n",
    "\n",
    "    def forward(self, x):\n",
    "        x = self.conv(x)\n",
    "        x = self.flatten(x)\n",
    "        return self.fc(x)"
   ]
  },
  {
   "cell_type": "code",
   "execution_count": 3,
   "metadata": {},
   "outputs": [],
   "source": [
    "class MlpPolicy(nn.Module):\n",
    "\n",
    "    def __init__(self, n_observations, n_actions,num_hidden=128):\n",
    "        super(MlpPolicy, self).__init__()\n",
    "        self.layer1 = nn.Linear(n_observations, num_hidden)\n",
    "        self.layer2 = nn.Linear(num_hidden, num_hidden)\n",
    "        self.layer3 = nn.Linear(num_hidden, n_actions)\n",
    "\n",
    "    def forward(self, x):\n",
    "        x = F.relu(self.layer1(x))\n",
    "        x = F.relu(self.layer2(x))\n",
    "        return self.layer3(x)"
   ]
  },
  {
   "cell_type": "code",
   "execution_count": 4,
   "metadata": {},
   "outputs": [],
   "source": [
    "class PolicyNetwork(nn.Module):\n",
    "    def __init__(self, action_dim):\n",
    "        super().__init__()\n",
    "        self.cnn = CNNFeatureExtractor()\n",
    "        self.mlp = MlpPolicy(512, action_dim)\n",
    "\n",
    "    def forward(self, x):\n",
    "        features = self.cnn(x)\n",
    "        return self.mlp(features)"
   ]
  },
  {
   "cell_type": "markdown",
   "metadata": {},
   "source": [
    "# Understanding Gymnasium Wrappers in Reinforcement Learning\n",
    "\n",
    "In reinforcement learning, the environment plays a central role in training an agent. But often, the raw environment provided by a simulator (like those in Gymnasium) isn't in the ideal format for learning. You may want to preprocess observations, modify rewards, stack frames, or even track episode statistics.\n",
    "\n",
    "This is where **Gymnasium wrappers** come in.\n",
    "\n",
    "## What Are Wrappers?\n",
    "\n",
    "Wrappers in Gymnasium are a powerful and modular way to **extend or modify the behavior of environments** without changing their core logic. They act like layers wrapped around the environment — intercepting and potentially altering the inputs and outputs of the environment’s key methods: `reset()`, `step()`, `render()`, etc.\n",
    "\n",
    "A wrapper is essentially a class that takes an environment as input and returns a modified environment that behaves differently in useful ways.\n",
    "\n",
    "## Why and When Should You Use Wrappers?\n",
    "\n",
    "You should use wrappers when:\n",
    "- You want to **preprocess visual inputs** (e.g. grayscale, resize).\n",
    "- You need to **stack frames** to give your agent temporal awareness.\n",
    "- You want to **normalize rewards or observations**.\n",
    "- You need to **clip actions or rewards** to stabilize training.\n",
    "- You want to **monitor performance** or collect stats across episodes.\n",
    "\n",
    "Wrappers keep your code clean and modular. Instead of writing preprocessing logic into the agent or policy network, you \"wrap\" the environment and keep everything nicely separated.\n",
    "\n",
    "## How Do Wrappers Work?\n",
    "\n",
    "Here’s a basic example of using built-in Gymnasium wrappers:\n"
   ]
  },
  {
   "cell_type": "code",
   "execution_count": 5,
   "metadata": {},
   "outputs": [
    {
     "name": "stdout",
     "output_type": "stream",
     "text": [
      "Raw Env\n",
      "Obs shape: (210, 160, 3)\n",
      "Obs space: Box(0, 255, (210, 160, 3), uint8)\n"
     ]
    },
    {
     "name": "stderr",
     "output_type": "stream",
     "text": [
      "A.L.E: Arcade Learning Environment (version 0.10.2+c9d4b19)\n",
      "[Powered by Stella]\n"
     ]
    },
    {
     "data": {
      "image/png": "[encoded data removed]",
      "text/plain": [
       "<Figure size 640x480 with 1 Axes>"
      ]
     },
     "metadata": {},
     "output_type": "display_data"
    }
   ],
   "source": [
    "# Helper to show one frame\n",
    "def show_frame(frame, title=\"\"):\n",
    "    plt.imshow(frame, cmap='gray' if len(frame.shape) == 2 else None)\n",
    "    plt.title(title)\n",
    "    plt.axis('off')\n",
    "    plt.show()\n",
    "\n",
    "# === 1. Raw Pong Env ===\n",
    "env = gym.make(\"ALE/Pong-v5\", frameskip=1, repeat_action_probability=0.0)\n",
    "obs, info = env.reset()\n",
    "\n",
    "print(\"Raw Env\")\n",
    "print(\"Obs shape:\", obs.shape)\n",
    "print(\"Obs space:\", env.observation_space)\n",
    "show_frame(obs, title=\"Raw RGB Observation\")"
   ]
  },
  {
   "cell_type": "code",
   "execution_count": 6,
   "metadata": {},
   "outputs": [
    {
     "name": "stdout",
     "output_type": "stream",
     "text": [
      "After AtariPreprocessing\n",
      "Obs shape: (84, 84)\n",
      "Obs space: Box(0, 255, (84, 84), uint8)\n"
     ]
    },
    {
     "data": {
      "image/png": "[encoded data removed]",
      "text/plain": [
       "<Figure size 640x480 with 1 Axes>"
      ]
     },
     "metadata": {},
     "output_type": "display_data"
    }
   ],
   "source": [
    "# === 2. Apply AtariPreprocessing ===\n",
    "from gymnasium.wrappers import AtariPreprocessing\n",
    "env = AtariPreprocessing(env, frame_skip=4, screen_size=84, terminal_on_life_loss=True)\n",
    "obs, info = env.reset()\n",
    "\n",
    "print(\"After AtariPreprocessing\")\n",
    "print(\"Obs shape:\", obs.shape)\n",
    "print(\"Obs space:\", env.observation_space)\n",
    "show_frame(obs, title=\"Preprocessed (Grayscale 84x84)\")"
   ]
  },
  {
   "cell_type": "code",
   "execution_count": 7,
   "metadata": {},
   "outputs": [
    {
     "name": "stdout",
     "output_type": "stream",
     "text": [
      "After FrameStackObservation\n",
      "Obs shape: (4, 84, 84)\n",
      "Obs space: Box(0, 255, (4, 84, 84), uint8)\n"
     ]
    },
    {
     "data": {
      "image/png": "[encoded data removed]",
      "text/plain": [
       "<Figure size 640x480 with 1 Axes>"
      ]
     },
     "metadata": {},
     "output_type": "display_data"
    },
    {
     "data": {
      "image/png": "[encoded data removed]",
      "text/plain": [
       "<Figure size 640x480 with 1 Axes>"
      ]
     },
     "metadata": {},
     "output_type": "display_data"
    },
    {
     "data": {
      "image/png": "[encoded data removed]",
      "text/plain": [
       "<Figure size 640x480 with 1 Axes>"
      ]
     },
     "metadata": {},
     "output_type": "display_data"
    },
    {
     "data": {
      "image/png": "[encoded data removed]",
      "text/plain": [
       "<Figure size 640x480 with 1 Axes>"
      ]
     },
     "metadata": {},
     "output_type": "display_data"
    }
   ],
   "source": [
    "# === 3. FrameStackObservation ===\n",
    "from gymnasium.wrappers import FrameStackObservation\n",
    "\n",
    "env = FrameStackObservation(env, stack_size=4)\n",
    "obs, info = env.reset()\n",
    "\n",
    "print(\"After FrameStackObservation\")\n",
    "print(\"Obs shape:\", obs.shape)\n",
    "print(\"Obs space:\", env.observation_space)\n",
    "\n",
    "# Show each stacked frame\n",
    "for i in range(4):\n",
    "    show_frame(np.array(obs[i]), title=f\"Stacked Frame {i}\")"
   ]
  },
  {
   "cell_type": "code",
   "execution_count": 8,
   "metadata": {},
   "outputs": [
    {
     "name": "stdout",
     "output_type": "stream",
     "text": [
      "Before TimeLimit\n",
      "Episode finished after 977 steps\n",
      "After TimeLimit\n",
      "This wrapper enforces a max of 1000 steps per episode.\n",
      "Episode finished after 300 steps\n"
     ]
    }
   ],
   "source": [
    "# === 4. Add TimeLimit ===\n",
    "from gymnasium.wrappers import TimeLimit\n",
    "\n",
    "obs, info = env.reset()\n",
    "\n",
    "print(\"Before TimeLimit\")\n",
    "for t in range(10_000):\n",
    "    observation, reward, terminated,truncated, info = env.step(env.action_space.sample())\n",
    "    done = terminated or truncated\n",
    "    if done:\n",
    "        print(f\"Episode finished after {t + 1} steps\")\n",
    "        break\n",
    "\n",
    "env = TimeLimit(env, max_episode_steps=300)\n",
    "obs, info = env.reset()\n",
    "\n",
    "print(\"After TimeLimit\")\n",
    "print(\"This wrapper enforces a max of 1000 steps per episode.\")\n",
    "\n",
    "for i in range(1200):\n",
    "    observation, reward, terminated,truncated, info = env.step(env.action_space.sample())\n",
    "    done = terminated or truncated\n",
    "    if done:\n",
    "        print(f\"Episode finished after {i + 1} steps\")\n",
    "        break"
   ]
  }
 ],
 "metadata": {
  "kernelspec": {
   "display_name": "drl",
   "language": "python",
   "name": "python3"
  },
  "language_info": {
   "codemirror_mode": {
    "name": "ipython",
    "version": 3
   },
   "file_extension": ".py",
   "mimetype": "text/x-python",
   "name": "python",
   "nbconvert_exporter": "python",
   "pygments_lexer": "ipython3",
   "version": "3.11.11"
  }
 },
 "nbformat": 4,
 "nbformat_minor": 2
}
