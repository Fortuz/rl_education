{
 "cells": [
  {
   "cell_type": "markdown",
   "metadata": {
    "tags": []
   },
   "source": [
    "![Logo](../assets/logo.png)\n",
    "\n",
    "Made by **Domonkos Nagy**\n",
    "\n",
    "[<img src=\"../assets/open_button.png\">](https://colab.research.google.com/github/Fortuz/rl_education/blob/main/5.%20Temporal%20Difference/frozen_lake.ipynb)\n",
    "\n",
    "# Frozen Lake\n",
    "\n",
    "Frozen lake involves crossing a frozen lake from start to goal without falling into any holes by walking over the frozen lake. The player may not always move in the intended direction due to the slippery nature of the frozen lake.\n",
    "\n",
    "The game starts with the player at location [0,0] of the frozen lake grid world with the goal located at far extent of the world e.g. [3,3] for the 4x4 environment.\n",
    "Holes in the ice are distributed in set locations.\n",
    "The player makes moves until they reach the goal or fall in a hole.\n",
    "\n",
    "![Example image](assets/frozen_lake.png)\n",
    "\n",
    "This problem can be formulated with a finite, undiscounted MDP, where the states are the positions in the grid world, the actions are UP, DOWN, LEFT and RIGHT, and the reward is 1 for reaching the goal and 0 otherwise (even for falling in a hole). In this example, we use the `FrozenLake-v1` environment from the `Gymnasium` library to represent the problem, and use *Q-learning* to solve it.\n",
    "\n",
    "- Documentation for the Frozen Lake environment: https://gymnasium.farama.org/environments/toy_text/frozen_lake/"
   ]
  },
  {
   "cell_type": "code",
   "execution_count": 7,
   "metadata": {},
   "outputs": [],
   "source": [
    "import numpy as np\n",
    "import gymnasium as gym\n",
    "from gymnasium.wrappers import RecordVideo\n",
    "import time\n",
    "from tqdm.notebook import trange\n",
    "from IPython import display\n",
    "import matplotlib.pyplot as plt\n",
    "import pickle\n",
    "import ipywidgets as widgets"
   ]
  },
  {
   "cell_type": "code",
   "execution_count": 8,
   "metadata": {},
   "outputs": [],
   "source": [
    "base_env = gym.make('FrozenLake-v1', render_mode='rgb_array')  # creating the environment"
   ]
  },
  {
   "cell_type": "code",
   "execution_count": 9,
   "metadata": {},
   "outputs": [
    {
     "name": "stdout",
     "output_type": "stream",
     "text": [
      "Q-TABLE:\n",
      "[[0. 0. 0. 0.]\n",
      " [0. 0. 0. 0.]\n",
      " [0. 0. 0. 0.]\n",
      " [0. 0. 0. 0.]\n",
      " [0. 0. 0. 0.]\n",
      " [0. 0. 0. 0.]\n",
      " [0. 0. 0. 0.]\n",
      " [0. 0. 0. 0.]\n",
      " [0. 0. 0. 0.]\n",
      " [0. 0. 0. 0.]\n",
      " [0. 0. 0. 0.]\n",
      " [0. 0. 0. 0.]\n",
      " [0. 0. 0. 0.]\n",
      " [0. 0. 0. 0.]\n",
      " [0. 0. 0. 0.]\n",
      " [0. 0. 0. 0.]]\n"
     ]
    }
   ],
   "source": [
    "# initializing q-table\n",
    "action_space_size = base_env.action_space.n\n",
    "observation_space_size = base_env.observation_space.n\n",
    "\n",
    "q_table = np.zeros((observation_space_size, action_space_size))\n",
    "print(\"Q-TABLE:\")\n",
    "print(q_table)"
   ]
  },
  {
   "cell_type": "code",
   "execution_count": 10,
   "metadata": {},
   "outputs": [],
   "source": [
    "# hyperparameters\n",
    "N_EPISODES = 10_000\n",
    "MAX_STEPS_PER_EPISODE = 100\n",
    "\n",
    "ALPHA = 0.1  # learning rate\n",
    "GAMMA = 0.98  # discount rate\n",
    "\n",
    "EPSILON = 1  # exploration rate\n",
    "EPSILON_MIN = 0.001\n",
    "EPSILON_DECAY = (2 * EPSILON) / N_EPISODES\n",
    "\n",
    "LOG_RATE = N_EPISODES / 10\n",
    "REC_EPISODES = np.linspace(0, N_EPISODES-1, num=3, dtype=int)"
   ]
  },
  {
   "cell_type": "code",
   "execution_count": 11,
   "metadata": {},
   "outputs": [
    {
     "name": "stderr",
     "output_type": "stream",
     "text": [
      "/opt/conda/lib/python3.11/site-packages/gymnasium/wrappers/record_video.py:94: UserWarning: \u001b[33mWARN: Overwriting existing videos at /home/jovyan/work/5. Temporal Difference/videos folder (try specifying a different `video_folder` for the `RecordVideo` wrapper if this is not desired)\u001b[0m\n",
      "  logger.warn(\n",
      "/opt/conda/lib/python3.11/site-packages/gymnasium/core.py:297: UserWarning: \u001b[33mWARN: env.is_vector_env to get variables from other wrappers is deprecated and will be removed in v1.0, to get this variable you can do `env.unwrapped.is_vector_env` for environment variables or `env.get_attr('is_vector_env')` that will search the reminding wrappers.\u001b[0m\n",
      "  logger.warn(\n"
     ]
    }
   ],
   "source": [
    "# wrap environment\n",
    "trigger = lambda t: t in REC_EPISODES\n",
    "env = RecordVideo(base_env, video_folder=\"./videos\", episode_trigger=trigger, disable_logger=True)"
   ]
  },
  {
   "cell_type": "markdown",
   "metadata": {},
   "source": [
    "## Q-learning\n",
    "\n",
    "Q-learning combines ideas from both *Dynamic Programming* and *Monte Carlo* methods. Similarly to MC, Q-learning simulates episodes, and updates the\n",
    "value function according to the returns. However, there is an important difference in the update rule of these two methods: while MC uses only returns\n",
    "from the currently simulated episode, Q-learning utilizes *bootstrapping*, that is, it updates estimates based on other learned estimates, without\n",
    "waiting for a final outcome.\n",
    "\n",
    "The update rule for Q-learning looks like this:\n",
    "\n",
    "$$ Q_t(S_t,A_t) \\leftarrow Q_t(S_t,A_t) + \\alpha[R_{t+1} + \\gamma \\max_a Q(S_{t+1}, a) - Q_t(S_t,A_t)] $$\n",
    "\n",
    "Where $\\alpha \\in (0;1]$ is a constant step-size parameter and $\\gamma \\in [0;1]$ is the discount rate."
   ]
  },
  {
   "cell_type": "code",
   "execution_count": 13,
   "metadata": {},
   "outputs": [
    {
     "name": "stderr",
     "output_type": "stream",
     "text": [
      "/opt/conda/lib/python3.11/site-packages/gymnasium/wrappers/record_video.py:94: UserWarning: \u001b[33mWARN: Overwriting existing videos at /home/jovyan/work/5. Temporal Difference/videos folder (try specifying a different `video_folder` for the `RecordVideo` wrapper if this is not desired)\u001b[0m\n",
      "  logger.warn(\n",
      "/opt/conda/lib/python3.11/site-packages/gymnasium/core.py:297: UserWarning: \u001b[33mWARN: env.is_vector_env to get variables from other wrappers is deprecated and will be removed in v1.0, to get this variable you can do `env.unwrapped.is_vector_env` for environment variables or `env.get_attr('is_vector_env')` that will search the reminding wrappers.\u001b[0m\n",
      "  logger.warn(\n"
     ]
    },
    {
     "data": {
      "application/vnd.jupyter.widget-view+json": {
       "model_id": "0cf10434d1a94302ab8ad83b668b48dd",
       "version_major": 2,
       "version_minor": 0
      },
      "text/plain": [
       "  0%|          | 0/10000 [00:00<?, ?it/s]"
      ]
     },
     "metadata": {},
     "output_type": "display_data"
    },
    {
     "name": "stdout",
     "output_type": "stream",
     "text": [
      "Episode 1000 : avg=0.726\n",
      "Episode 2000 : avg=0.761\n",
      "Episode 3000 : avg=0.743\n",
      "Episode 4000 : avg=0.727\n",
      "Episode 5000 : avg=0.731\n",
      "Episode 6000 : avg=0.742\n",
      "Episode 7000 : avg=0.744\n",
      "Episode 8000 : avg=0.725\n",
      "Episode 9000 : avg=0.702\n",
      "Episode 10000 : avg=0.764\n"
     ]
    }
   ],
   "source": [
    "env = RecordVideo(env, video_folder=\"./videos\", episode_trigger=trigger, disable_logger=True)\n",
    "sum_rewards = 0\n",
    "\n",
    "for episode in trange(N_EPISODES):\n",
    "    state, _ = env.reset()\n",
    "    done = False\n",
    "\n",
    "    for step in range(MAX_STEPS_PER_EPISODE):\n",
    "        # epsilon-greedy action selection\n",
    "        if np.random.rand() > EPSILON:\n",
    "            action = np.argmax(q_table[state, :])\n",
    "        else:\n",
    "            action = env.action_space.sample()\n",
    "\n",
    "        new_state, reward, done, truncated, info = env.step(action)\n",
    "\n",
    "        # updating q-table\n",
    "        q_table[state, action] = q_table[state, action] * (1 - ALPHA) + \\\n",
    "            ALPHA * (reward + GAMMA * np.max(q_table[new_state, :]))\n",
    "\n",
    "        state = new_state\n",
    "        sum_rewards += reward\n",
    "\n",
    "        if done:\n",
    "            break\n",
    "\n",
    "    # updating epsilon\n",
    "    EPSILON = max(EPSILON - EPSILON_DECAY, EPSILON_MIN)\n",
    "\n",
    "    # logging the results\n",
    "    if (episode + 1) % LOG_RATE == 0:\n",
    "        print(f'Episode {episode + 1} : avg={sum_rewards / LOG_RATE}')\n",
    "        sum_rewards = 0\n",
    "\n",
    "# saving the q-table\n",
    "with open('q_table.bin', 'wb') as f:\n",
    "    pickle.dump(q_table, f)"
   ]
  },
  {
   "cell_type": "code",
   "execution_count": 19,
   "metadata": {},
   "outputs": [
    {
     "name": "stdout",
     "output_type": "stream",
     "text": [
      "Q-TABLE:\n",
      "[[0.37466491 0.34553799 0.32557899 0.33504751]\n",
      " [0.25089242 0.24986768 0.17460412 0.36649769]\n",
      " [0.24799974 0.25409921 0.24602968 0.32296225]\n",
      " [0.23261584 0.13045663 0.22034271 0.29413206]\n",
      " [0.39781504 0.31866799 0.30784145 0.20311995]\n",
      " [0.         0.         0.         0.        ]\n",
      " [0.12552234 0.13038634 0.19133641 0.11120052]\n",
      " [0.         0.         0.         0.        ]\n",
      " [0.28874683 0.36867847 0.26763989 0.44445408]\n",
      " [0.33792861 0.50095111 0.33415657 0.22190402]\n",
      " [0.53087826 0.33426376 0.22245882 0.30284547]\n",
      " [0.         0.         0.         0.        ]\n",
      " [0.         0.         0.         0.        ]\n",
      " [0.37585708 0.48888763 0.59097015 0.41864528]\n",
      " [0.6355178  0.72732036 0.64952208 0.67990017]\n",
      " [0.         0.         0.         0.        ]]\n"
     ]
    }
   ],
   "source": [
    "# Print updated Q-table\n",
    "print(\"Q-TABLE:\")\n",
    "print(q_table)"
   ]
  },
  {
   "cell_type": "code",
   "execution_count": 21,
   "metadata": {},
   "outputs": [
    {
     "data": {
      "application/vnd.jupyter.widget-view+json": {
       "model_id": "db5eeb57e21642dbb2c10f279dcb273d",
       "version_major": 2,
       "version_minor": 0
      },
      "text/plain": [
       "Tab(children=(Video(value=b'\\x00\\x00\\x00 ftypisom\\x00\\x00\\x02\\x00isomiso2avc1mp41\\x00\\x00\\x00\\x08free...', aut…"
      ]
     },
     "execution_count": 21,
     "metadata": {},
     "output_type": "execute_result"
    }
   ],
   "source": [
    "children = [widgets.Video.from_file(f'./videos/rl-video-episode-{episode}.mp4', autoplay=False, loop=False, width=500) for episode in REC_EPISODES]\n",
    "tab = widgets.Tab()\n",
    "tab.children = children\n",
    "tab.titles = tuple([f'Episode {episode+1}' for episode in REC_EPISODES])\n",
    "tab"
   ]
  },
  {
   "cell_type": "code",
   "execution_count": null,
   "metadata": {},
   "outputs": [],
   "source": []
  }
 ],
 "metadata": {
  "kernelspec": {
   "display_name": "Python 3 (ipykernel)",
   "language": "python",
   "name": "python3"
  },
  "language_info": {
   "codemirror_mode": {
    "name": "ipython",
    "version": 3
   },
   "file_extension": ".py",
   "mimetype": "text/x-python",
   "name": "python",
   "nbconvert_exporter": "python",
   "pygments_lexer": "ipython3",
   "version": "3.11.6"
  },
  "widgets": {
   "application/vnd.jupyter.widget-state+json": {
    "state": {
     "03647de808db45faaa79cc7096c45c30": {
      "model_module": "@jupyter-widgets/base",
      "model_module_version": "2.0.0",
      "model_name": "LayoutModel",
      "state": {}
     },
     "0723ecb39284450f86811bac1725b1da": {
      "model_module": "@jupyter-widgets/controls",
      "model_module_version": "2.0.0",
      "model_name": "HTMLStyleModel",
      "state": {
       "description_width": "",
       "font_size": null,
       "text_color": null
      }
     },
     "0b14256bc7e04226a124a1b1fe6671bf": {
      "model_module": "@jupyter-widgets/base",
      "model_module_version": "2.0.0",
      "model_name": "LayoutModel",
      "state": {}
     },
     "0c1173f3eda84cc8afd13c81cbb2ae61": {
      "model_module": "@jupyter-widgets/base",
      "model_module_version": "2.0.0",
      "model_name": "LayoutModel",
      "state": {}
     },
     "0cf10434d1a94302ab8ad83b668b48dd": {
      "model_module": "@jupyter-widgets/controls",
      "model_module_version": "2.0.0",
      "model_name": "HBoxModel",
      "state": {
       "children": [
        "IPY_MODEL_b7f975d4d2084031957de15ab4b239c3",
        "IPY_MODEL_9c64581a46364c7f8b3a4df9496c5ac0",
        "IPY_MODEL_65017da03b79429291418e96ab7e6e47"
       ],
       "layout": "IPY_MODEL_bd6c5b1cae6c4a958ec30026bad0c563"
      }
     },
     "0ecee400b0684ed3b9dfe3e74dccbc68": {
      "model_module": "@jupyter-widgets/base",
      "model_module_version": "2.0.0",
      "model_name": "LayoutModel",
      "state": {}
     },
     "20915f4db95e4b2fa58c9bbacb874239": {
      "model_module": "@jupyter-widgets/controls",
      "model_module_version": "2.0.0",
      "model_name": "HTMLStyleModel",
      "state": {
       "description_width": "",
       "font_size": null,
       "text_color": null
      }
     },
     "283f0c54a5ab437c8c2cad5b0f2c2a0a": {
      "model_module": "@jupyter-widgets/controls",
      "model_module_version": "2.0.0",
      "model_name": "ProgressStyleModel",
      "state": {
       "description_width": ""
      }
     },
     "32d4aa9cf2d641f883b79d6f6c97c354": {
      "model_module": "@jupyter-widgets/controls",
      "model_module_version": "2.0.0",
      "model_name": "HBoxModel",
      "state": {
       "children": [
        "IPY_MODEL_99c5873ec7494cf6afdfade7f14a2a10",
        "IPY_MODEL_84b6f8b29ecb4ff9b6a7ae30caf67fbe",
        "IPY_MODEL_39bb086640f046478fcbbe53fa6dc82c"
       ],
       "layout": "IPY_MODEL_393b89c8382e4905a49abc700579f126"
      }
     },
     "37b81e60176c4f90b425ae9cf2d24d56": {
      "model_module": "@jupyter-widgets/base",
      "model_module_version": "2.0.0",
      "model_name": "LayoutModel",
      "state": {}
     },
     "393b89c8382e4905a49abc700579f126": {
      "model_module": "@jupyter-widgets/base",
      "model_module_version": "2.0.0",
      "model_name": "LayoutModel",
      "state": {}
     },
     "39bb086640f046478fcbbe53fa6dc82c": {
      "model_module": "@jupyter-widgets/controls",
      "model_module_version": "2.0.0",
      "model_name": "HTMLModel",
      "state": {
       "layout": "IPY_MODEL_75c1ffdb42014e03af65eeee6d9e5bdb",
       "style": "IPY_MODEL_0723ecb39284450f86811bac1725b1da",
       "value": " 10000/10000 [00:15&lt;00:00, 485.60it/s]"
      }
     },
     "3a7dbae20a7647b688c6d866af9896b4": {
      "model_module": "@jupyter-widgets/base",
      "model_module_version": "2.0.0",
      "model_name": "LayoutModel",
      "state": {}
     },
     "451e2ddbf4874cbf85deff12377a16ee": {
      "model_module": "@jupyter-widgets/base",
      "model_module_version": "2.0.0",
      "model_name": "LayoutModel",
      "state": {}
     },
     "512ab64522444ba8a10782b71ed6f216": {
      "model_module": "@jupyter-widgets/controls",
      "model_module_version": "2.0.0",
      "model_name": "HTMLStyleModel",
      "state": {
       "description_width": "",
       "font_size": null,
       "text_color": null
      }
     },
     "65017da03b79429291418e96ab7e6e47": {
      "model_module": "@jupyter-widgets/controls",
      "model_module_version": "2.0.0",
      "model_name": "HTMLModel",
      "state": {
       "layout": "IPY_MODEL_451e2ddbf4874cbf85deff12377a16ee",
       "style": "IPY_MODEL_512ab64522444ba8a10782b71ed6f216",
       "value": " 10000/10000 [00:23&lt;00:00, 465.50it/s]"
      }
     },
     "72e96aca4096447a931e299d7174e72e": {
      "model_module": "@jupyter-widgets/controls",
      "model_module_version": "2.0.0",
      "model_name": "HTMLModel",
      "state": {
       "layout": "IPY_MODEL_0b14256bc7e04226a124a1b1fe6671bf",
       "style": "IPY_MODEL_f0cf6ee02993409fb9f886e4501169a4",
       "value": " 10000/10000 [00:15&lt;00:00, 476.50it/s]"
      }
     },
     "73f1fb7aa9c34fbe84291a85abecea02": {
      "model_module": "@jupyter-widgets/controls",
      "model_module_version": "2.0.0",
      "model_name": "HTMLStyleModel",
      "state": {
       "description_width": "",
       "font_size": null,
       "text_color": null
      }
     },
     "75c1ffdb42014e03af65eeee6d9e5bdb": {
      "model_module": "@jupyter-widgets/base",
      "model_module_version": "2.0.0",
      "model_name": "LayoutModel",
      "state": {}
     },
     "7edf2c4c7cf64e32ae26116af74a2b00": {
      "model_module": "@jupyter-widgets/controls",
      "model_module_version": "2.0.0",
      "model_name": "HBoxModel",
      "state": {
       "children": [
        "IPY_MODEL_fa0516fd4d0b4edd9447560648dc9091",
        "IPY_MODEL_e2f06321798048aca80dec73287a290b",
        "IPY_MODEL_72e96aca4096447a931e299d7174e72e"
       ],
       "layout": "IPY_MODEL_37b81e60176c4f90b425ae9cf2d24d56"
      }
     },
     "84b6f8b29ecb4ff9b6a7ae30caf67fbe": {
      "model_module": "@jupyter-widgets/controls",
      "model_module_version": "2.0.0",
      "model_name": "FloatProgressModel",
      "state": {
       "bar_style": "success",
       "layout": "IPY_MODEL_0c1173f3eda84cc8afd13c81cbb2ae61",
       "max": 10000,
       "style": "IPY_MODEL_f019249805cd4c29b530047e4823496f",
       "value": 10000
      }
     },
     "92c7c2c3d0424feea3d898f4be63260b": {
      "model_module": "@jupyter-widgets/base",
      "model_module_version": "2.0.0",
      "model_name": "LayoutModel",
      "state": {}
     },
     "964d83b777614da18153f9b4c0f1a16a": {
      "model_module": "@jupyter-widgets/controls",
      "model_module_version": "2.0.0",
      "model_name": "HTMLStyleModel",
      "state": {
       "description_width": "",
       "font_size": null,
       "text_color": null
      }
     },
     "99c5873ec7494cf6afdfade7f14a2a10": {
      "model_module": "@jupyter-widgets/controls",
      "model_module_version": "2.0.0",
      "model_name": "HTMLModel",
      "state": {
       "layout": "IPY_MODEL_92c7c2c3d0424feea3d898f4be63260b",
       "style": "IPY_MODEL_20915f4db95e4b2fa58c9bbacb874239",
       "value": "100%"
      }
     },
     "9c64581a46364c7f8b3a4df9496c5ac0": {
      "model_module": "@jupyter-widgets/controls",
      "model_module_version": "2.0.0",
      "model_name": "FloatProgressModel",
      "state": {
       "bar_style": "success",
       "layout": "IPY_MODEL_3a7dbae20a7647b688c6d866af9896b4",
       "max": 10000,
       "style": "IPY_MODEL_283f0c54a5ab437c8c2cad5b0f2c2a0a",
       "value": 10000
      }
     },
     "b7f975d4d2084031957de15ab4b239c3": {
      "model_module": "@jupyter-widgets/controls",
      "model_module_version": "2.0.0",
      "model_name": "HTMLModel",
      "state": {
       "layout": "IPY_MODEL_03647de808db45faaa79cc7096c45c30",
       "style": "IPY_MODEL_73f1fb7aa9c34fbe84291a85abecea02",
       "value": "100%"
      }
     },
     "bd6c5b1cae6c4a958ec30026bad0c563": {
      "model_module": "@jupyter-widgets/base",
      "model_module_version": "2.0.0",
      "model_name": "LayoutModel",
      "state": {}
     },
     "c5f5c978bcd5446082794785a8a9d523": {
      "model_module": "@jupyter-widgets/controls",
      "model_module_version": "2.0.0",
      "model_name": "ProgressStyleModel",
      "state": {
       "description_width": ""
      }
     },
     "e2f06321798048aca80dec73287a290b": {
      "model_module": "@jupyter-widgets/controls",
      "model_module_version": "2.0.0",
      "model_name": "FloatProgressModel",
      "state": {
       "bar_style": "success",
       "layout": "IPY_MODEL_f5f2aaffb0564cd29d6b3ddc35a59564",
       "max": 10000,
       "style": "IPY_MODEL_c5f5c978bcd5446082794785a8a9d523",
       "value": 10000
      }
     },
     "f019249805cd4c29b530047e4823496f": {
      "model_module": "@jupyter-widgets/controls",
      "model_module_version": "2.0.0",
      "model_name": "ProgressStyleModel",
      "state": {
       "description_width": ""
      }
     },
     "f0cf6ee02993409fb9f886e4501169a4": {
      "model_module": "@jupyter-widgets/controls",
      "model_module_version": "2.0.0",
      "model_name": "HTMLStyleModel",
      "state": {
       "description_width": "",
       "font_size": null,
       "text_color": null
      }
     },
     "f5f2aaffb0564cd29d6b3ddc35a59564": {
      "model_module": "@jupyter-widgets/base",
      "model_module_version": "2.0.0",
      "model_name": "LayoutModel",
      "state": {}
     },
     "fa0516fd4d0b4edd9447560648dc9091": {
      "model_module": "@jupyter-widgets/controls",
      "model_module_version": "2.0.0",
      "model_name": "HTMLModel",
      "state": {
       "layout": "IPY_MODEL_0ecee400b0684ed3b9dfe3e74dccbc68",
       "style": "IPY_MODEL_964d83b777614da18153f9b4c0f1a16a",
       "value": "100%"
      }
     }
    },
    "version_major": 2,
    "version_minor": 0
   }
  }
 },
 "nbformat": 4,
 "nbformat_minor": 4
}
