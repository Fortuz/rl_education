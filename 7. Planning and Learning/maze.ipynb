{
 "cells": [
  {
   "cell_type": "markdown",
   "id": "ed6b7a47-954c-47e7-b711-799901326092",
   "metadata": {},
   "source": [
    "![Logo](assets/logo.png)\n",
    "\n",
    "Made by **Domonkos Nagy**\n",
    "\n",
    "[![Open In Colab](https://colab.research.google.com/assets/colab-badge.svg)](https://colab.research.google.com/github/Fortuz/rl_education/blob/main/7.%20Planning%20and%20Learning/maze.ipynb)\n",
    "\n",
    "# Maze\n",
    "\n",
    "In this notebook we consider the problem of solving a maze in only a few episodes.\n",
    "\n",
    "![Example](assets/maze.gif)\n",
    "\n",
    "This maze environment was originally made with the `gym` library, but we apply an API compatibility layer, so it behaves exactly like\n",
    "a `gymnasium` environment. The states are the x, y coordinates of the agent (which we transform to be respresented by a single integer), and the actions are the 4 directions: 'N', 'S', 'E' and 'W'. The reward\n",
    "is -0.1/(number of cells) for each step, and for reaching the goal, a reward of +1 is received.\n",
    "\n",
    "The maze is randomly generated every time the environment is created. To find the optimal path in only a small number of episodes, we are going to use\n",
    "*Prioritized Sweeping*.\n",
    "\n",
    "- Documentation for the Maze environment: https://github.com/MattChanTK/gym-maze"
   ]
  },
  {
   "cell_type": "code",
   "execution_count": 22,
   "id": "217b9e4d-1854-405c-9266-803b34915fb7",
   "metadata": {},
   "outputs": [],
   "source": [
    "import gym\n",
    "import gym_maze\n",
    "import matplotlib.pyplot as plt\n",
    "import numpy as np\n",
    "from IPython import display\n",
    "from gymnasium.wrappers import TransformObservation\n",
    "import warnings\n",
    "warnings.filterwarnings('ignore')"
   ]
  },
  {
   "cell_type": "code",
   "execution_count": 23,
   "id": "fabb6faf-27bb-44e4-98c4-e136f0e4dff0",
   "metadata": {},
   "outputs": [],
   "source": [
    "# initializing gym environment with gymnasium compatibility\n",
    "env = gym.make(\"maze-random-10x10-v0\", apply_api_compatibility=True)\n",
    "# transforming observation representation from array to int: e.g. [3, 4] -> 43\n",
    "env = TransformObservation(env, lambda obs: int(obs[1] * (env.observation_space.high + 1)[0] + obs[0]))"
   ]
  },
  {
   "cell_type": "code",
   "execution_count": 24,
   "id": "4f93420e-b1af-4142-b48c-15bb04474f46",
   "metadata": {},
   "outputs": [],
   "source": [
    "# initializing q-table\n",
    "action_space_size = env.action_space.n\n",
    "observation_space_size = (env.observation_space.high + 1)[0] * \\\n",
    "    (env.observation_space.high + 1)[1]\n",
    "shape = observation_space_size, action_space_size\n",
    "\n",
    "q_table = np.zeros(shape)\n",
    "\n",
    "# initializing model\n",
    "model_state = np.zeros(shape)\n",
    "model_reward = np.zeros(shape)\n",
    "\n",
    "# initializing priority queue\n",
    "priorities = np.zeros(shape)"
   ]
  },
  {
   "cell_type": "code",
   "execution_count": 25,
   "id": "b36954da-d9e2-4a34-832f-f7133beee555",
   "metadata": {},
   "outputs": [],
   "source": [
    "# argmax function that breaks ties randomly\n",
    "def argmax(arr):\n",
    "    arr_max = np.max(arr)\n",
    "    return np.random.choice(np.where(arr == arr_max)[0])"
   ]
  },
  {
   "cell_type": "code",
   "execution_count": 26,
   "id": "3a59e5c6-abd4-44a6-8363-020a9bb84e0c",
   "metadata": {},
   "outputs": [],
   "source": [
    "# class representing our model of the environment\n",
    "class Model:\n",
    "    def __init__(self, shape):\n",
    "        self.states = np.zeros(shape, dtype=int) - 1\n",
    "        self.rewards = np.zeros(shape)\n",
    "        self.states_reverse = {}\n",
    "\n",
    "    # add new information to the model:\n",
    "    # taking 'action' in 'state' produces 'reward'\n",
    "    # and transfers the agent to 'new_state'\n",
    "    def add(self, state, action, reward, new_state):\n",
    "        self.states[state, action] = new_state\n",
    "        self.rewards[state, action] = reward\n",
    "\n",
    "        if new_state in self.states_reverse:\n",
    "            if not (state, action) in self.states_reverse[new_state]:\n",
    "                self.states_reverse[new_state].append((state, action))\n",
    "        else:\n",
    "            self.states_reverse[new_state] = [(state, action)]\n",
    "\n",
    "    # get information from the model:\n",
    "    def get(self, state, action):\n",
    "        new_state = self.states[state, action]\n",
    "        reward = self.rewards[state, action]\n",
    "        return new_state, reward\n",
    "\n",
    "    # get all state-action pairs that lead the agent to 'state'\n",
    "    def get_leading(self, state):\n",
    "        return self.states_reverse[state]"
   ]
  },
  {
   "cell_type": "code",
   "execution_count": 27,
   "id": "884fe2c1-1599-4702-9516-ab9e21cc7ba4",
   "metadata": {},
   "outputs": [],
   "source": [
    "# initializing model\n",
    "model = Model(shape)"
   ]
  },
  {
   "cell_type": "code",
   "execution_count": 28,
   "id": "32b306b4-6004-406c-90e7-0daa1f17ce6a",
   "metadata": {},
   "outputs": [],
   "source": [
    "# hyperparameters\n",
    "N_EPISODES = 3\n",
    "N_UPDATES_PER_STEP = 200  # planning updates per interaction with the environment\n",
    "\n",
    "ALPHA = 0.7  # learning rate\n",
    "GAMMA = 1  # discount rate\n",
    "THETA = 0.01  # priority treshold\n",
    "C = 5  # exploration rate (UCB)"
   ]
  },
  {
   "cell_type": "code",
   "execution_count": 29,
   "id": "c8ca6b72-6124-4a22-bda1-071e88fadd79",
   "metadata": {},
   "outputs": [],
   "source": [
    "def plan():\n",
    "    for _ in range(N_UPDATES_PER_STEP):\n",
    "        # get state-action pair with highest priority\n",
    "        state, action = np.unravel_index(priorities.argmax(), priorities.shape)\n",
    "        if priorities[state, action] == 0:\n",
    "            break\n",
    "            \n",
    "        # reset priority\n",
    "        priorities[state, action] = 0\n",
    "\n",
    "        # get new state and reward from model\n",
    "        new_state, reward = model.get(state, action)\n",
    "\n",
    "        # update q-table\n",
    "        q_table[state, action] = q_table[state, action] * (1 - ALPHA) + \\\n",
    "            ALPHA * (reward + GAMMA * np.max(q_table[new_state, :]))\n",
    "\n",
    "        # add leading states to queue\n",
    "        for prev_state, prev_action in model.get_leading(state):\n",
    "            _, prev_reward = model.get(prev_state, prev_action)\n",
    "            priority = abs(prev_reward + GAMMA *\n",
    "                           np.max(q_table[state, :] - q_table[prev_state, prev_action]))\n",
    "\n",
    "            if priorities[prev_state, prev_action] < priority and priority > THETA:\n",
    "                priorities[prev_state, prev_action] = priority"
   ]
  },
  {
   "cell_type": "code",
   "execution_count": 30,
   "id": "8bfcb921-5953-4911-af60-5042349d20ae",
   "metadata": {},
   "outputs": [
    {
     "name": "stdout",
     "output_type": "stream",
     "text": [
      "Episode 0:\n",
      "\tSteps: 2949\n",
      "\tQueue size: 66\n",
      "Episode 1:\n",
      "\tSteps: 38\n",
      "\tQueue size: 91\n",
      "Episode 2:\n",
      "\tSteps: 32\n",
      "\tQueue size: 48\n"
     ]
    }
   ],
   "source": [
    "for episode in range(N_EPISODES):\n",
    "    state, _ = env.reset()\n",
    "    done = False\n",
    "    n = 0\n",
    "    selections = np.zeros(shape)\n",
    "\n",
    "    while not done:\n",
    "        n += 1\n",
    "    \n",
    "        # UCB action selection\n",
    "        UCB_estimations = q_table[state, :] + C * np.sqrt(np.log(n) / (selections[state, :] + 1e-5))\n",
    "        action = argmax(UCB_estimations)\n",
    "    \n",
    "        selections[state, action] += 1\n",
    "    \n",
    "        # take the selected action\n",
    "        new_state, reward, done, truncated, info = env.step(['N', 'S', 'E', 'W'][action])\n",
    "        # add information to the model\n",
    "        model.add(state, action, reward, new_state)\n",
    "    \n",
    "        # add state-action pair to queue\n",
    "        priority = abs(reward + GAMMA *\n",
    "                       np.max(q_table[new_state, :] - q_table[state, action]))\n",
    "            \n",
    "        if priorities[state, action] < priority and priority > THETA:\n",
    "            priorities[state, action] = priority\n",
    "    \n",
    "        state = new_state\n",
    "        plan()\n",
    "\n",
    "    print(f'Episode {episode}:\\n\\tSteps: {n}\\n\\tQueue size: {np.count_nonzero(priorities)}')"
   ]
  },
  {
   "cell_type": "code",
   "execution_count": 31,
   "id": "e18f6bea-6cf1-4ec7-a68e-3589b2508b55",
   "metadata": {},
   "outputs": [
    {
     "data": {
      "image/png": "[encoded data removed]",
      "text/plain": [
       "<Figure size 1000x1000 with 1 Axes>"
      ]
     },
     "metadata": {},
     "output_type": "display_data"
    }
   ],
   "source": [
    "# create figure\n",
    "plt.figure(figsize=(10, 10))\n",
    "plt.tick_params(left=False, right=False, labelleft=False,\n",
    "                labelbottom=False, bottom=False)\n",
    "\n",
    "# render starting state\n",
    "state, _ = env.reset()\n",
    "img = plt.imshow(env.render())\n",
    "\n",
    "done = False\n",
    "sum_reward = 0\n",
    "n_steps = 0\n",
    "\n",
    "# play episode\n",
    "while not done:\n",
    "    # greedy action selection\n",
    "    action = argmax(q_table[state, :])\n",
    "\n",
    "    # take the selected action\n",
    "    new_state, reward, done, truncated, info = env.step(['N', 'S', 'E', 'W'][action])\n",
    "    sum_reward += reward\n",
    "    n_steps += 1\n",
    "\n",
    "    # render state\n",
    "    img.set_data(env.render())\n",
    "    plt.title(f'Steps taken: {n_steps}')\n",
    "    display.display(plt.gcf())\n",
    "    display.clear_output(wait=True)\n",
    "\n",
    "    state = new_state"
   ]
  },
  {
   "cell_type": "code",
   "execution_count": null,
   "id": "250a9380-6342-46e1-9f8c-9c68487752d5",
   "metadata": {},
   "outputs": [],
   "source": []
  }
 ],
 "metadata": {
  "kernelspec": {
   "display_name": "Python 3 (ipykernel)",
   "language": "python",
   "name": "python3"
  },
  "language_info": {
   "codemirror_mode": {
    "name": "ipython",
    "version": 3
   },
   "file_extension": ".py",
   "mimetype": "text/x-python",
   "name": "python",
   "nbconvert_exporter": "python",
   "pygments_lexer": "ipython3",
   "version": "3.11.6"
  }
 },
 "nbformat": 4,
 "nbformat_minor": 5
}
